{
 "cells": [
  {
   "cell_type": "markdown",
   "id": "79b4294c",
   "metadata": {},
   "source": [
    "# Project 3"
   ]
  },
  {
   "cell_type": "markdown",
   "id": "ef798574",
   "metadata": {},
   "source": [
    "# Importing Data and Libraries"
   ]
  },
  {
   "cell_type": "code",
   "execution_count": 36,
   "id": "b24bcb6a",
   "metadata": {},
   "outputs": [],
   "source": [
    "import numpy as np\n",
    "import pandas as pd\n",
    "import matplotlib.pyplot as plt\n",
    "import warnings\n",
    "from collections import Counter \n",
    "\n",
    "from sklearn.feature_extraction.text import CountVectorizer, TfidfVectorizer\n",
    "from sklearn.linear_model import LogisticRegressionCV, LogisticRegression\n",
    "from sklearn.metrics import confusion_matrix, ConfusionMatrixDisplay, accuracy_score, classification_report, plot_roc_curve, roc_auc_score\n",
    "from sklearn.model_selection import train_test_split,cross_val_score, GridSearchCV\n",
    "from sklearn.naive_bayes import MultinomialNB, GaussianNB, BernoulliNB\n",
    "from sklearn.ensemble import RandomForestClassifier,GradientBoostingClassifier\n",
    "from sklearn.neighbors import KNeighborsClassifier\n",
    "from sklearn.pipeline import Pipeline\n",
    "from sklearn.preprocessing import StandardScaler\n",
    "from sklearn import metrics\n",
    "from sklearn.tree import DecisionTreeClassifier"
   ]
  },
  {
   "cell_type": "code",
   "execution_count": 2,
   "id": "994c1b43",
   "metadata": {},
   "outputs": [],
   "source": [
    "pd.set_option('display.max_columns', None)\n",
    "pd.set_option('display.max_rows', None)\n",
    "pd.set_option('display.max_colwidth', None)"
   ]
  },
  {
   "cell_type": "code",
   "execution_count": 3,
   "id": "cf638963",
   "metadata": {},
   "outputs": [],
   "source": [
    "perfumes2 = pd.read_csv('../datasets/perfumes2.csv')\n",
    "makeup2 = pd.read_csv ('../datasets/makeup2.csv')\n",
    "perfume_makeup1 = pd.read_csv ('../datasets/perfume_makeup.csv')"
   ]
  },
  {
   "cell_type": "code",
   "execution_count": 4,
   "id": "d4f24df0",
   "metadata": {},
   "outputs": [
    {
     "data": {
      "text/plain": [
       "subreddit          0\n",
       "post              38\n",
       "comment_length     0\n",
       "word_count         0\n",
       "dtype: int64"
      ]
     },
     "execution_count": 4,
     "metadata": {},
     "output_type": "execute_result"
    }
   ],
   "source": [
    "perfume_makeup1.isnull().sum()"
   ]
  },
  {
   "cell_type": "code",
   "execution_count": 5,
   "id": "2e15edb4",
   "metadata": {},
   "outputs": [
    {
     "data": {
      "text/html": [
       "<div>\n",
       "<style scoped>\n",
       "    .dataframe tbody tr th:only-of-type {\n",
       "        vertical-align: middle;\n",
       "    }\n",
       "\n",
       "    .dataframe tbody tr th {\n",
       "        vertical-align: top;\n",
       "    }\n",
       "\n",
       "    .dataframe thead th {\n",
       "        text-align: right;\n",
       "    }\n",
       "</style>\n",
       "<table border=\"1\" class=\"dataframe\">\n",
       "  <thead>\n",
       "    <tr style=\"text-align: right;\">\n",
       "      <th></th>\n",
       "      <th>subreddit</th>\n",
       "      <th>post</th>\n",
       "      <th>comment_length</th>\n",
       "      <th>word_count</th>\n",
       "      <th>origin</th>\n",
       "    </tr>\n",
       "  </thead>\n",
       "  <tbody>\n",
       "    <tr>\n",
       "      <th>0</th>\n",
       "      <td>Perfumes</td>\n",
       "      <td>help identifying plz cologne pronounced gras ago attempting identify locate found mentioned passing random video individual pronounced cologne gras ago attempted multiple google searches various spellings half typed entries hoping google would fill blank etc avail decided reddit infinite wisdom user forums might help since topic obviously passion much familiar unfortunately information way person female pronounced name speaking fragrance wore received positive comments wearing random video relocate unable contact person directly ask fragrance referred video apologize advance vague information go give assistance constructive suggestions welcome thank advance time help even reading post much appreciated great blessed sunday</td>\n",
       "      <td>731</td>\n",
       "      <td>97</td>\n",
       "      <td>0</td>\n",
       "    </tr>\n",
       "    <tr>\n",
       "      <th>1</th>\n",
       "      <td>Perfumes</td>\n",
       "      <td>looking strong herb garden notes added floral scents suggestions welcome</td>\n",
       "      <td>72</td>\n",
       "      <td>10</td>\n",
       "      <td>0</td>\n",
       "    </tr>\n",
       "    <tr>\n",
       "      <th>2</th>\n",
       "      <td>Perfumes</td>\n",
       "      <td>find</td>\n",
       "      <td>4</td>\n",
       "      <td>1</td>\n",
       "      <td>0</td>\n",
       "    </tr>\n",
       "    <tr>\n",
       "      <th>3</th>\n",
       "      <td>Perfumes</td>\n",
       "      <td>substitutes body shop discontinued red musk looking parfumée sub red musk please let know anything smells like</td>\n",
       "      <td>110</td>\n",
       "      <td>17</td>\n",
       "      <td>0</td>\n",
       "    </tr>\n",
       "    <tr>\n",
       "      <th>4</th>\n",
       "      <td>Perfumes</td>\n",
       "      <td>looking recommendations smell like shampoo really like smell shampoos masks especially pantene garnier headshoulders smelled something similar fragrance also product dove smells amazing would like fragrance like nivea</td>\n",
       "      <td>217</td>\n",
       "      <td>28</td>\n",
       "      <td>0</td>\n",
       "    </tr>\n",
       "    <tr>\n",
       "      <th>5</th>\n",
       "      <td>Perfumes</td>\n",
       "      <td>looking new recommendations looking smells like paddywax edgar allan poe candle top notes nutmeg eucalyptus cinnamon leaf dewy greens middle notes golden apple red pear patchouli vanilla bean base notes smoked cedar spiced musk creamy sandalwood want spicy autumn found one like would love help</td>\n",
       "      <td>294</td>\n",
       "      <td>45</td>\n",
       "      <td>0</td>\n",
       "    </tr>\n",
       "    <tr>\n",
       "      <th>6</th>\n",
       "      <td>Perfumes</td>\n",
       "      <td>need body spray layering jpg scandal hello new sub wanted ask anybody help choose body spray layer scandal thanks advance</td>\n",
       "      <td>121</td>\n",
       "      <td>20</td>\n",
       "      <td>0</td>\n",
       "    </tr>\n",
       "    <tr>\n",
       "      <th>7</th>\n",
       "      <td>Perfumes</td>\n",
       "      <td>anyone suggestions vanilla someone starting like vanilla always hated vanilla recently got sample montale vanilla cake love got chantilly cream solstice scents love guess like vanilla go thanks suggestions</td>\n",
       "      <td>205</td>\n",
       "      <td>29</td>\n",
       "      <td>0</td>\n",
       "    </tr>\n",
       "    <tr>\n",
       "      <th>8</th>\n",
       "      <td>Perfumes</td>\n",
       "      <td>cheap body mists recs fruity floral scents lately wanted cheap recs enough money spend like ive tried victoria secret body mists liked ones bought smelt like chemicals alcohol also like sweet citrusy notes would nice body mist lighter side matching lotion go needed</td>\n",
       "      <td>265</td>\n",
       "      <td>43</td>\n",
       "      <td>0</td>\n",
       "    </tr>\n",
       "    <tr>\n",
       "      <th>9</th>\n",
       "      <td>Perfumes</td>\n",
       "      <td>anyone recognize bottles</td>\n",
       "      <td>24</td>\n",
       "      <td>3</td>\n",
       "      <td>0</td>\n",
       "    </tr>\n",
       "  </tbody>\n",
       "</table>\n",
       "</div>"
      ],
      "text/plain": [
       "  subreddit  \\\n",
       "0  Perfumes   \n",
       "1  Perfumes   \n",
       "2  Perfumes   \n",
       "3  Perfumes   \n",
       "4  Perfumes   \n",
       "5  Perfumes   \n",
       "6  Perfumes   \n",
       "7  Perfumes   \n",
       "8  Perfumes   \n",
       "9  Perfumes   \n",
       "\n",
       "                                                                                                                                                                                                                                                                                                                                                                                                                                                                                                                                                                                                                                                                                                                                                          post  \\\n",
       "0  help identifying plz cologne pronounced gras ago attempting identify locate found mentioned passing random video individual pronounced cologne gras ago attempted multiple google searches various spellings half typed entries hoping google would fill blank etc avail decided reddit infinite wisdom user forums might help since topic obviously passion much familiar unfortunately information way person female pronounced name speaking fragrance wore received positive comments wearing random video relocate unable contact person directly ask fragrance referred video apologize advance vague information go give assistance constructive suggestions welcome thank advance time help even reading post much appreciated great blessed sunday   \n",
       "1                                                                                                                                                                                                                                                                                                                                                                                                                                                                                                                                                                                                                                                                                     looking strong herb garden notes added floral scents suggestions welcome   \n",
       "2                                                                                                                                                                                                                                                                                                                                                                                                                                                                                                                                                                                                                                                                                                                                                         find   \n",
       "3                                                                                                                                                                                                                                                                                                                                                                                                                                                                                                                                                                                                                                               substitutes body shop discontinued red musk looking parfumée sub red musk please let know anything smells like   \n",
       "4                                                                                                                                                                                                                                                                                                                                                                                                                                                                                                                                    looking recommendations smell like shampoo really like smell shampoos masks especially pantene garnier headshoulders smelled something similar fragrance also product dove smells amazing would like fragrance like nivea   \n",
       "5                                                                                                                                                                                                                                                                                                                                                                                                                                                       looking new recommendations looking smells like paddywax edgar allan poe candle top notes nutmeg eucalyptus cinnamon leaf dewy greens middle notes golden apple red pear patchouli vanilla bean base notes smoked cedar spiced musk creamy sandalwood want spicy autumn found one like would love help   \n",
       "6                                                                                                                                                                                                                                                                                                                                                                                                                                                                                                                                                                                                                                    need body spray layering jpg scandal hello new sub wanted ask anybody help choose body spray layer scandal thanks advance   \n",
       "7                                                                                                                                                                                                                                                                                                                                                                                                                                                                                                                                                anyone suggestions vanilla someone starting like vanilla always hated vanilla recently got sample montale vanilla cake love got chantilly cream solstice scents love guess like vanilla go thanks suggestions   \n",
       "8                                                                                                                                                                                                                                                                                                                                                                                                                                                                                    cheap body mists recs fruity floral scents lately wanted cheap recs enough money spend like ive tried victoria secret body mists liked ones bought smelt like chemicals alcohol also like sweet citrusy notes would nice body mist lighter side matching lotion go needed   \n",
       "9                                                                                                                                                                                                                                                                                                                                                                                                                                                                                                                                                                                                                                                                                                                                     anyone recognize bottles   \n",
       "\n",
       "   comment_length  word_count  origin  \n",
       "0             731          97       0  \n",
       "1              72          10       0  \n",
       "2               4           1       0  \n",
       "3             110          17       0  \n",
       "4             217          28       0  \n",
       "5             294          45       0  \n",
       "6             121          20       0  \n",
       "7             205          29       0  \n",
       "8             265          43       0  \n",
       "9              24           3       0  "
      ]
     },
     "metadata": {},
     "output_type": "display_data"
    }
   ],
   "source": [
    "# Removing all null at perfume_makeup\n",
    "perfume_makeup1.dropna(axis=0, inplace=True)\n",
    "\n",
    "# Assigning Perfume and makeup an origin 1 or 0 for classification purpose.\n",
    "# Perfume = 0 , Makeup = 1\n",
    "\n",
    "perfume_makeup2 = perfume_makeup1\n",
    "perfume_makeup2['origin'] = perfume_makeup1['subreddit'].map({'Perfumes':0,'Makeup':1})\n",
    "\n",
    "display(perfume_makeup2.head(10))"
   ]
  },
  {
   "cell_type": "markdown",
   "id": "e74c3dc1",
   "metadata": {},
   "source": [
    "# Train Test Split"
   ]
  },
  {
   "cell_type": "code",
   "execution_count": 6,
   "id": "bed7b016",
   "metadata": {},
   "outputs": [
    {
     "data": {
      "text/plain": [
       "(9184,)"
      ]
     },
     "metadata": {},
     "output_type": "display_data"
    },
    {
     "data": {
      "text/plain": [
       "(9184,)"
      ]
     },
     "metadata": {},
     "output_type": "display_data"
    }
   ],
   "source": [
    "# Define X and Y\n",
    "X = perfume_makeup1['post']\n",
    "y = perfume_makeup1['origin']\n",
    "\n",
    "display(X.shape)\n",
    "display(y.shape)\n",
    "\n",
    "X_train, X_test, y_train, y_test = train_test_split(X,\n",
    "                                                    y,\n",
    "                                                    random_state = 42,\n",
    "                                                   stratify = y)"
   ]
  },
  {
   "cell_type": "markdown",
   "id": "3b93f58b",
   "metadata": {},
   "source": [
    "# Baseline accuracy/null model"
   ]
  },
  {
   "cell_type": "code",
   "execution_count": 7,
   "id": "b743800e",
   "metadata": {},
   "outputs": [
    {
     "name": "stdout",
     "output_type": "stream",
     "text": [
      "1    0.563444\n",
      "0    0.436556\n",
      "Name: origin, dtype: float64\n",
      "1    0.563153\n",
      "0    0.436847\n",
      "Name: origin, dtype: float64\n"
     ]
    }
   ],
   "source": [
    "# Perfume = 0 , Makeup = 1\n",
    "# Using the higher probability subreddit as baseline. \n",
    "print(y_train.value_counts(normalize=True))\n",
    "print(y_test.value_counts(normalize=True))"
   ]
  },
  {
   "cell_type": "markdown",
   "id": "71290a65",
   "metadata": {},
   "source": [
    "Explanation: "
   ]
  },
  {
   "cell_type": "markdown",
   "id": "e46a4a2f",
   "metadata": {},
   "source": [
    "# Naive Bayes"
   ]
  },
  {
   "cell_type": "code",
   "execution_count": 8,
   "id": "45d3c0e6",
   "metadata": {},
   "outputs": [],
   "source": [
    "# Fit TfidVectorization to train set\n",
    "tfid_vect = TfidfVectorizer(ngram_range=(1,1))"
   ]
  },
  {
   "cell_type": "code",
   "execution_count": 9,
   "id": "d878a56c",
   "metadata": {},
   "outputs": [],
   "source": [
    "# Fit CountVectorizer to train set\n",
    "ngram_vect = CountVectorizer(ngram_range=(1,1))"
   ]
  },
  {
   "cell_type": "code",
   "execution_count": 10,
   "id": "b51254f9",
   "metadata": {},
   "outputs": [],
   "source": [
    "# Fit N-grams TfidfVectorizer to train and testset\n",
    "X_train_tfid = tfid_vect.fit_transform(X_train)\n",
    "X_test_tfid = tfid_vect.transform(X_test)\n",
    "\n",
    "# Fit N-grams CountVectorizer to train and testset\n",
    "X_train_ngrams2 = ngram_vect.fit_transform(X_train)\n",
    "X_test_ngrams2 = ngram_vect.transform(X_test)"
   ]
  },
  {
   "cell_type": "code",
   "execution_count": 11,
   "id": "51138124",
   "metadata": {},
   "outputs": [
    {
     "name": "stdout",
     "output_type": "stream",
     "text": [
      "Bernoulli Naive Bayes, TfidfVectorizer\n",
      "train score: 0.5634436701509872\n",
      "test score: 0.5631533101045296\n"
     ]
    }
   ],
   "source": [
    "# Using Bernoulli Naive Bayes, TfidfVectorizer\n",
    "BernNB = BernoulliNB(binarize=True)\n",
    "BernNB.fit(X_train_tfid, y_train)\n",
    "\n",
    "print('Bernoulli Naive Bayes, TfidfVectorizer')\n",
    "print('train score:', BernNB.score(X_train_tfid, y_train))\n",
    "print('test score:', BernNB.score(X_test_tfid, y_test))"
   ]
  },
  {
   "cell_type": "code",
   "execution_count": 12,
   "id": "9b2fa00a",
   "metadata": {},
   "outputs": [
    {
     "name": "stdout",
     "output_type": "stream",
     "text": [
      "Bernoulli Naive Bayes, CountVectorizer\n",
      "train score: 0.8313008130081301\n",
      "test score: 0.806184668989547\n"
     ]
    }
   ],
   "source": [
    "# Using Bernoulli Naive Bayes, CountVectorizer\n",
    "BernNB = BernoulliNB(binarize=True)\n",
    "BernNB.fit(X_train_ngrams2, y_train)\n",
    "\n",
    "print('Bernoulli Naive Bayes, CountVectorizer')\n",
    "print('train score:', BernNB.score(X_train_ngrams2, y_train))\n",
    "print('test score:', BernNB.score(X_test_ngrams2, y_test))"
   ]
  },
  {
   "cell_type": "code",
   "execution_count": 23,
   "id": "5fb4dbaa",
   "metadata": {},
   "outputs": [
    {
     "name": "stdout",
     "output_type": "stream",
     "text": [
      "Multinomial Naive Bayes, TfidfVectorizer\n",
      "train score: 0.9748838559814169\n",
      "test score: 0.943815331010453\n",
      "              precision    recall  f1-score   support\n",
      "\n",
      "           0       0.98      0.89      0.93      1003\n",
      "           1       0.92      0.99      0.95      1293\n",
      "\n",
      "    accuracy                           0.94      2296\n",
      "   macro avg       0.95      0.94      0.94      2296\n",
      "weighted avg       0.95      0.94      0.94      2296\n",
      "\n"
     ]
    },
    {
     "name": "stderr",
     "output_type": "stream",
     "text": [
      "/Users/khooqixiang/opt/anaconda3/lib/python3.9/site-packages/sklearn/utils/deprecation.py:87: FutureWarning: Function plot_roc_curve is deprecated; Function :func:`plot_roc_curve` is deprecated in 1.0 and will be removed in 1.2. Use one of the class methods: :meth:`sklearn.metric.RocCurveDisplay.from_predictions` or :meth:`sklearn.metric.RocCurveDisplay.from_estimator`.\n",
      "  warnings.warn(msg, category=FutureWarning)\n"
     ]
    },
    {
     "data": {
      "image/png": "[encoded data removed]",
      "text/plain": [
       "<Figure size 432x288 with 2 Axes>"
      ]
     },
     "metadata": {
      "needs_background": "light"
     },
     "output_type": "display_data"
    },
    {
     "data": {
      "image/png": "[encoded data removed]",
      "text/plain": [
       "<Figure size 432x288 with 1 Axes>"
      ]
     },
     "metadata": {
      "needs_background": "light"
     },
     "output_type": "display_data"
    }
   ],
   "source": [
    "# Using Multinomial Naive Bayes, TfidfVectorizer\n",
    "MultiNB1 = MultinomialNB()\n",
    "MultiNB1.fit(X_train_tfid, y_train)\n",
    "\n",
    "\n",
    "print('Multinomial Naive Bayes, TfidfVectorizer')\n",
    "print('train score:', MultiNB1.score(X_train_tfid, y_train))\n",
    "print('test score:', MultiNB1.score(X_test_tfid, y_test))\n",
    "\n",
    "MultiNB1_pred = MultiNB1.predict(X_test_tfid)\n",
    "\n",
    "cm1 = confusion_matrix(y_test, MultiNB1_pred)\n",
    "disp = ConfusionMatrixDisplay(cm1)\n",
    "disp.plot();\n",
    "\n",
    "print(classification_report(y_test, MultiNB1_pred))\n",
    "\n",
    "plot_roc_curve(MultiNB1, X_test_tfid, y_test)\n",
    "plt.plot([0, 1], [0, 1],\n",
    "         label='baseline', linestyle='--')\n",
    "plt.legend();"
   ]
  },
  {
   "cell_type": "code",
   "execution_count": 14,
   "id": "76624b20",
   "metadata": {},
   "outputs": [
    {
     "name": "stdout",
     "output_type": "stream",
     "text": [
      "Multinomial Naive Bayes, CountVectorizer\n",
      "train score: 0.8313008130081301\n",
      "test score: 0.806184668989547\n"
     ]
    }
   ],
   "source": [
    "# Using Multinomial Naive Bayes, CountVectorizer\n",
    "MultiNB = MultinomialNB()\n",
    "MultiNB.fit(X_train_ngrams2, y_train)\n",
    "\n",
    "print('Multinomial Naive Bayes, CountVectorizer')\n",
    "print('train score:', BernNB.score(X_train_ngrams2, y_train))\n",
    "print('test score:', BernNB.score(X_test_ngrams2, y_test))"
   ]
  },
  {
   "cell_type": "code",
   "execution_count": 15,
   "id": "292f574a",
   "metadata": {},
   "outputs": [
    {
     "name": "stdout",
     "output_type": "stream",
     "text": [
      "Gaussian Naive Bayes, TfidfVectorizer\n",
      "train score: 0.9682055749128919\n",
      "test score: 0.8876306620209059\n"
     ]
    }
   ],
   "source": [
    "# Using Gaussian Naive Bayes, TfidfVectorizer\n",
    "GausNB = GaussianNB()\n",
    "GausNB.fit(X_train_tfid.toarray(), y_train)\n",
    "\n",
    "print('Gaussian Naive Bayes, TfidfVectorizer')\n",
    "print('train score:', GausNB.score(X_train_tfid.toarray(), y_train))\n",
    "print('test score:', GausNB.score(X_test_tfid.toarray(), y_test))"
   ]
  },
  {
   "cell_type": "code",
   "execution_count": 16,
   "id": "2cdd890c",
   "metadata": {},
   "outputs": [
    {
     "name": "stdout",
     "output_type": "stream",
     "text": [
      "Multinomial Naive Bayes, CountVectorizer\n",
      "train score: 0.8313008130081301\n",
      "test score: 0.806184668989547\n"
     ]
    }
   ],
   "source": [
    "#Using Gaussian Naive Bayes, CountVectorizer\n",
    "GausNB = GaussianNB()\n",
    "GausNB.fit(X_train_ngrams2.toarray(), y_train)\n",
    "\n",
    "print('Multinomial Naive Bayes, CountVectorizer')\n",
    "print('train score:', BernNB.score(X_train_ngrams2.toarray(), y_train))\n",
    "print('test score:', BernNB.score(X_test_ngrams2.toarray(), y_test))"
   ]
  },
  {
   "cell_type": "code",
   "execution_count": 17,
   "id": "2bc82011",
   "metadata": {},
   "outputs": [
    {
     "name": "stdout",
     "output_type": "stream",
     "text": [
      "MultiNB\n",
      "train score: 0.9748838559814169\n",
      "test score: 0.943815331010453\n"
     ]
    },
    {
     "name": "stderr",
     "output_type": "stream",
     "text": [
      "/Users/khooqixiang/opt/anaconda3/lib/python3.9/site-packages/sklearn/utils/deprecation.py:87: FutureWarning: Function plot_roc_curve is deprecated; Function :func:`plot_roc_curve` is deprecated in 1.0 and will be removed in 1.2. Use one of the class methods: :meth:`sklearn.metric.RocCurveDisplay.from_predictions` or :meth:`sklearn.metric.RocCurveDisplay.from_estimator`.\n",
      "  warnings.warn(msg, category=FutureWarning)\n"
     ]
    },
    {
     "data": {
      "image/png": "[encoded data removed]",
      "text/plain": [
       "<Figure size 432x288 with 1 Axes>"
      ]
     },
     "metadata": {
      "needs_background": "light"
     },
     "output_type": "display_data"
    }
   ],
   "source": [
    "#Using Multinomial Naive Bayes to plot roc curve\n",
    "\n",
    "#fit TfidVectorization to train and test set\n",
    "X_train_tfid = tfid_vect.fit_transform(X_train)\n",
    "X_test_tfid = tfid_vect.transform(X_test)\n",
    "\n",
    "MultiNB = MultinomialNB()\n",
    "MultiNB.fit(X_train_tfid, y_train)\n",
    "\n",
    "print('MultiNB')\n",
    "print('train score:', MultiNB.score(X_train_tfid, y_train))\n",
    "print('test score:', MultiNB.score(X_test_tfid, y_test))\n",
    "\n",
    "plot_roc_curve(MultiNB, X_test_tfid, y_test)\n",
    "plt.plot([0, 1], [0, 1],\n",
    "         label='baseline', linestyle='--')\n",
    "plt.legend();"
   ]
  },
  {
   "cell_type": "markdown",
   "id": "561fc76c",
   "metadata": {},
   "source": [
    "# Logistic Regression\n",
    "\n",
    "\n",
    "In this section, we create a logistic regression model using CVEC and TF-IDF Vectorizer and tabulate our findings."
   ]
  },
  {
   "cell_type": "code",
   "execution_count": 24,
   "id": "7fe4b5db",
   "metadata": {},
   "outputs": [
    {
     "name": "stderr",
     "output_type": "stream",
     "text": [
      "/Users/khooqixiang/opt/anaconda3/lib/python3.9/site-packages/sklearn/linear_model/_logistic.py:814: ConvergenceWarning: lbfgs failed to converge (status=1):\n",
      "STOP: TOTAL NO. of ITERATIONS REACHED LIMIT.\n",
      "\n",
      "Increase the number of iterations (max_iter) or scale the data as shown in:\n",
      "    https://scikit-learn.org/stable/modules/preprocessing.html\n",
      "Please also refer to the documentation for alternative solver options:\n",
      "    https://scikit-learn.org/stable/modules/linear_model.html#logistic-regression\n",
      "  n_iter_i = _check_optimize_result(\n",
      "/Users/khooqixiang/opt/anaconda3/lib/python3.9/site-packages/sklearn/linear_model/_logistic.py:814: ConvergenceWarning: lbfgs failed to converge (status=1):\n",
      "STOP: TOTAL NO. of ITERATIONS REACHED LIMIT.\n",
      "\n",
      "Increase the number of iterations (max_iter) or scale the data as shown in:\n",
      "    https://scikit-learn.org/stable/modules/preprocessing.html\n",
      "Please also refer to the documentation for alternative solver options:\n",
      "    https://scikit-learn.org/stable/modules/linear_model.html#logistic-regression\n",
      "  n_iter_i = _check_optimize_result(\n",
      "/Users/khooqixiang/opt/anaconda3/lib/python3.9/site-packages/sklearn/linear_model/_logistic.py:814: ConvergenceWarning: lbfgs failed to converge (status=1):\n",
      "STOP: TOTAL NO. of ITERATIONS REACHED LIMIT.\n",
      "\n",
      "Increase the number of iterations (max_iter) or scale the data as shown in:\n",
      "    https://scikit-learn.org/stable/modules/preprocessing.html\n",
      "Please also refer to the documentation for alternative solver options:\n",
      "    https://scikit-learn.org/stable/modules/linear_model.html#logistic-regression\n",
      "  n_iter_i = _check_optimize_result(\n",
      "/Users/khooqixiang/opt/anaconda3/lib/python3.9/site-packages/sklearn/linear_model/_logistic.py:814: ConvergenceWarning: lbfgs failed to converge (status=1):\n",
      "STOP: TOTAL NO. of ITERATIONS REACHED LIMIT.\n",
      "\n",
      "Increase the number of iterations (max_iter) or scale the data as shown in:\n",
      "    https://scikit-learn.org/stable/modules/preprocessing.html\n",
      "Please also refer to the documentation for alternative solver options:\n",
      "    https://scikit-learn.org/stable/modules/linear_model.html#logistic-regression\n",
      "  n_iter_i = _check_optimize_result(\n",
      "/Users/khooqixiang/opt/anaconda3/lib/python3.9/site-packages/sklearn/linear_model/_logistic.py:814: ConvergenceWarning: lbfgs failed to converge (status=1):\n",
      "STOP: TOTAL NO. of ITERATIONS REACHED LIMIT.\n",
      "\n",
      "Increase the number of iterations (max_iter) or scale the data as shown in:\n",
      "    https://scikit-learn.org/stable/modules/preprocessing.html\n",
      "Please also refer to the documentation for alternative solver options:\n",
      "    https://scikit-learn.org/stable/modules/linear_model.html#logistic-regression\n",
      "  n_iter_i = _check_optimize_result(\n",
      "/Users/khooqixiang/opt/anaconda3/lib/python3.9/site-packages/sklearn/linear_model/_logistic.py:814: ConvergenceWarning: lbfgs failed to converge (status=1):\n",
      "STOP: TOTAL NO. of ITERATIONS REACHED LIMIT.\n",
      "\n",
      "Increase the number of iterations (max_iter) or scale the data as shown in:\n",
      "    https://scikit-learn.org/stable/modules/preprocessing.html\n",
      "Please also refer to the documentation for alternative solver options:\n",
      "    https://scikit-learn.org/stable/modules/linear_model.html#logistic-regression\n",
      "  n_iter_i = _check_optimize_result(\n",
      "/Users/khooqixiang/opt/anaconda3/lib/python3.9/site-packages/sklearn/linear_model/_logistic.py:814: ConvergenceWarning: lbfgs failed to converge (status=1):\n",
      "STOP: TOTAL NO. of ITERATIONS REACHED LIMIT.\n",
      "\n",
      "Increase the number of iterations (max_iter) or scale the data as shown in:\n",
      "    https://scikit-learn.org/stable/modules/preprocessing.html\n",
      "Please also refer to the documentation for alternative solver options:\n",
      "    https://scikit-learn.org/stable/modules/linear_model.html#logistic-regression\n",
      "  n_iter_i = _check_optimize_result(\n",
      "/Users/khooqixiang/opt/anaconda3/lib/python3.9/site-packages/sklearn/linear_model/_logistic.py:814: ConvergenceWarning: lbfgs failed to converge (status=1):\n",
      "STOP: TOTAL NO. of ITERATIONS REACHED LIMIT.\n",
      "\n",
      "Increase the number of iterations (max_iter) or scale the data as shown in:\n",
      "    https://scikit-learn.org/stable/modules/preprocessing.html\n",
      "Please also refer to the documentation for alternative solver options:\n",
      "    https://scikit-learn.org/stable/modules/linear_model.html#logistic-regression\n",
      "  n_iter_i = _check_optimize_result(\n",
      "/Users/khooqixiang/opt/anaconda3/lib/python3.9/site-packages/sklearn/linear_model/_logistic.py:814: ConvergenceWarning: lbfgs failed to converge (status=1):\n",
      "STOP: TOTAL NO. of ITERATIONS REACHED LIMIT.\n",
      "\n",
      "Increase the number of iterations (max_iter) or scale the data as shown in:\n",
      "    https://scikit-learn.org/stable/modules/preprocessing.html\n",
      "Please also refer to the documentation for alternative solver options:\n",
      "    https://scikit-learn.org/stable/modules/linear_model.html#logistic-regression\n",
      "  n_iter_i = _check_optimize_result(\n",
      "/Users/khooqixiang/opt/anaconda3/lib/python3.9/site-packages/sklearn/linear_model/_logistic.py:814: ConvergenceWarning: lbfgs failed to converge (status=1):\n",
      "STOP: TOTAL NO. of ITERATIONS REACHED LIMIT.\n",
      "\n",
      "Increase the number of iterations (max_iter) or scale the data as shown in:\n",
      "    https://scikit-learn.org/stable/modules/preprocessing.html\n",
      "Please also refer to the documentation for alternative solver options:\n",
      "    https://scikit-learn.org/stable/modules/linear_model.html#logistic-regression\n",
      "  n_iter_i = _check_optimize_result(\n",
      "/Users/khooqixiang/opt/anaconda3/lib/python3.9/site-packages/sklearn/linear_model/_logistic.py:814: ConvergenceWarning: lbfgs failed to converge (status=1):\n",
      "STOP: TOTAL NO. of ITERATIONS REACHED LIMIT.\n",
      "\n",
      "Increase the number of iterations (max_iter) or scale the data as shown in:\n",
      "    https://scikit-learn.org/stable/modules/preprocessing.html\n",
      "Please also refer to the documentation for alternative solver options:\n",
      "    https://scikit-learn.org/stable/modules/linear_model.html#logistic-regression\n",
      "  n_iter_i = _check_optimize_result(\n",
      "/Users/khooqixiang/opt/anaconda3/lib/python3.9/site-packages/sklearn/linear_model/_logistic.py:814: ConvergenceWarning: lbfgs failed to converge (status=1):\n",
      "STOP: TOTAL NO. of ITERATIONS REACHED LIMIT.\n",
      "\n",
      "Increase the number of iterations (max_iter) or scale the data as shown in:\n",
      "    https://scikit-learn.org/stable/modules/preprocessing.html\n",
      "Please also refer to the documentation for alternative solver options:\n",
      "    https://scikit-learn.org/stable/modules/linear_model.html#logistic-regression\n",
      "  n_iter_i = _check_optimize_result(\n"
     ]
    },
    {
     "name": "stdout",
     "output_type": "stream",
     "text": [
      "LogisticRegressionCV()\n",
      "train score: 0.9962253193960511\n",
      "test score: 0.9494773519163763\n"
     ]
    },
    {
     "name": "stderr",
     "output_type": "stream",
     "text": [
      "/Users/khooqixiang/opt/anaconda3/lib/python3.9/site-packages/sklearn/utils/deprecation.py:87: FutureWarning: Function plot_roc_curve is deprecated; Function :func:`plot_roc_curve` is deprecated in 1.0 and will be removed in 1.2. Use one of the class methods: :meth:`sklearn.metric.RocCurveDisplay.from_predictions` or :meth:`sklearn.metric.RocCurveDisplay.from_estimator`.\n",
      "  warnings.warn(msg, category=FutureWarning)\n"
     ]
    },
    {
     "data": {
      "image/png": "[encoded data removed]",
      "text/plain": [
       "<Figure size 432x288 with 1 Axes>"
      ]
     },
     "metadata": {
      "needs_background": "light"
     },
     "output_type": "display_data"
    }
   ],
   "source": [
    "# Logistic Regression model , CountVectorization\n",
    "\n",
    "# Instantiate Logistic Regression model\n",
    "logreg = LogisticRegressionCV()\n",
    "logreg.fit(X_train_ngrams2, y_train)\n",
    "\n",
    "print(logreg)\n",
    "print('train score:', logreg.score(X_train_ngrams2.toarray(), y_train))\n",
    "print('test score:', logreg.score(X_test_ngrams2.toarray(), y_test))\n",
    "\n",
    "plot_roc_curve(logreg, X_test_ngrams2, y_test)\n",
    "plt.plot([0, 1], [0, 1],\n",
    "         label='baseline', linestyle='--')\n",
    "plt.legend();\n"
   ]
  },
  {
   "cell_type": "code",
   "execution_count": 25,
   "id": "eb308a52",
   "metadata": {},
   "outputs": [
    {
     "name": "stderr",
     "output_type": "stream",
     "text": [
      "/Users/khooqixiang/opt/anaconda3/lib/python3.9/site-packages/sklearn/linear_model/_logistic.py:814: ConvergenceWarning: lbfgs failed to converge (status=1):\n",
      "STOP: TOTAL NO. of ITERATIONS REACHED LIMIT.\n",
      "\n",
      "Increase the number of iterations (max_iter) or scale the data as shown in:\n",
      "    https://scikit-learn.org/stable/modules/preprocessing.html\n",
      "Please also refer to the documentation for alternative solver options:\n",
      "    https://scikit-learn.org/stable/modules/linear_model.html#logistic-regression\n",
      "  n_iter_i = _check_optimize_result(\n",
      "/Users/khooqixiang/opt/anaconda3/lib/python3.9/site-packages/sklearn/linear_model/_logistic.py:814: ConvergenceWarning: lbfgs failed to converge (status=1):\n",
      "STOP: TOTAL NO. of ITERATIONS REACHED LIMIT.\n",
      "\n",
      "Increase the number of iterations (max_iter) or scale the data as shown in:\n",
      "    https://scikit-learn.org/stable/modules/preprocessing.html\n",
      "Please also refer to the documentation for alternative solver options:\n",
      "    https://scikit-learn.org/stable/modules/linear_model.html#logistic-regression\n",
      "  n_iter_i = _check_optimize_result(\n",
      "/Users/khooqixiang/opt/anaconda3/lib/python3.9/site-packages/sklearn/linear_model/_logistic.py:814: ConvergenceWarning: lbfgs failed to converge (status=1):\n",
      "STOP: TOTAL NO. of ITERATIONS REACHED LIMIT.\n",
      "\n",
      "Increase the number of iterations (max_iter) or scale the data as shown in:\n",
      "    https://scikit-learn.org/stable/modules/preprocessing.html\n",
      "Please also refer to the documentation for alternative solver options:\n",
      "    https://scikit-learn.org/stable/modules/linear_model.html#logistic-regression\n",
      "  n_iter_i = _check_optimize_result(\n",
      "/Users/khooqixiang/opt/anaconda3/lib/python3.9/site-packages/sklearn/linear_model/_logistic.py:814: ConvergenceWarning: lbfgs failed to converge (status=1):\n",
      "STOP: TOTAL NO. of ITERATIONS REACHED LIMIT.\n",
      "\n",
      "Increase the number of iterations (max_iter) or scale the data as shown in:\n",
      "    https://scikit-learn.org/stable/modules/preprocessing.html\n",
      "Please also refer to the documentation for alternative solver options:\n",
      "    https://scikit-learn.org/stable/modules/linear_model.html#logistic-regression\n",
      "  n_iter_i = _check_optimize_result(\n",
      "/Users/khooqixiang/opt/anaconda3/lib/python3.9/site-packages/sklearn/linear_model/_logistic.py:814: ConvergenceWarning: lbfgs failed to converge (status=1):\n",
      "STOP: TOTAL NO. of ITERATIONS REACHED LIMIT.\n",
      "\n",
      "Increase the number of iterations (max_iter) or scale the data as shown in:\n",
      "    https://scikit-learn.org/stable/modules/preprocessing.html\n",
      "Please also refer to the documentation for alternative solver options:\n",
      "    https://scikit-learn.org/stable/modules/linear_model.html#logistic-regression\n",
      "  n_iter_i = _check_optimize_result(\n",
      "/Users/khooqixiang/opt/anaconda3/lib/python3.9/site-packages/sklearn/linear_model/_logistic.py:814: ConvergenceWarning: lbfgs failed to converge (status=1):\n",
      "STOP: TOTAL NO. of ITERATIONS REACHED LIMIT.\n",
      "\n",
      "Increase the number of iterations (max_iter) or scale the data as shown in:\n",
      "    https://scikit-learn.org/stable/modules/preprocessing.html\n",
      "Please also refer to the documentation for alternative solver options:\n",
      "    https://scikit-learn.org/stable/modules/linear_model.html#logistic-regression\n",
      "  n_iter_i = _check_optimize_result(\n",
      "/Users/khooqixiang/opt/anaconda3/lib/python3.9/site-packages/sklearn/linear_model/_logistic.py:814: ConvergenceWarning: lbfgs failed to converge (status=1):\n",
      "STOP: TOTAL NO. of ITERATIONS REACHED LIMIT.\n",
      "\n",
      "Increase the number of iterations (max_iter) or scale the data as shown in:\n",
      "    https://scikit-learn.org/stable/modules/preprocessing.html\n",
      "Please also refer to the documentation for alternative solver options:\n",
      "    https://scikit-learn.org/stable/modules/linear_model.html#logistic-regression\n",
      "  n_iter_i = _check_optimize_result(\n",
      "/Users/khooqixiang/opt/anaconda3/lib/python3.9/site-packages/sklearn/linear_model/_logistic.py:814: ConvergenceWarning: lbfgs failed to converge (status=1):\n",
      "STOP: TOTAL NO. of ITERATIONS REACHED LIMIT.\n",
      "\n",
      "Increase the number of iterations (max_iter) or scale the data as shown in:\n",
      "    https://scikit-learn.org/stable/modules/preprocessing.html\n",
      "Please also refer to the documentation for alternative solver options:\n",
      "    https://scikit-learn.org/stable/modules/linear_model.html#logistic-regression\n",
      "  n_iter_i = _check_optimize_result(\n",
      "/Users/khooqixiang/opt/anaconda3/lib/python3.9/site-packages/sklearn/linear_model/_logistic.py:814: ConvergenceWarning: lbfgs failed to converge (status=1):\n",
      "STOP: TOTAL NO. of ITERATIONS REACHED LIMIT.\n",
      "\n",
      "Increase the number of iterations (max_iter) or scale the data as shown in:\n",
      "    https://scikit-learn.org/stable/modules/preprocessing.html\n",
      "Please also refer to the documentation for alternative solver options:\n",
      "    https://scikit-learn.org/stable/modules/linear_model.html#logistic-regression\n",
      "  n_iter_i = _check_optimize_result(\n",
      "/Users/khooqixiang/opt/anaconda3/lib/python3.9/site-packages/sklearn/linear_model/_logistic.py:814: ConvergenceWarning: lbfgs failed to converge (status=1):\n",
      "STOP: TOTAL NO. of ITERATIONS REACHED LIMIT.\n",
      "\n",
      "Increase the number of iterations (max_iter) or scale the data as shown in:\n",
      "    https://scikit-learn.org/stable/modules/preprocessing.html\n",
      "Please also refer to the documentation for alternative solver options:\n",
      "    https://scikit-learn.org/stable/modules/linear_model.html#logistic-regression\n",
      "  n_iter_i = _check_optimize_result(\n",
      "/Users/khooqixiang/opt/anaconda3/lib/python3.9/site-packages/sklearn/linear_model/_logistic.py:814: ConvergenceWarning: lbfgs failed to converge (status=1):\n",
      "STOP: TOTAL NO. of ITERATIONS REACHED LIMIT.\n",
      "\n",
      "Increase the number of iterations (max_iter) or scale the data as shown in:\n",
      "    https://scikit-learn.org/stable/modules/preprocessing.html\n",
      "Please also refer to the documentation for alternative solver options:\n",
      "    https://scikit-learn.org/stable/modules/linear_model.html#logistic-regression\n",
      "  n_iter_i = _check_optimize_result(\n",
      "/Users/khooqixiang/opt/anaconda3/lib/python3.9/site-packages/sklearn/linear_model/_logistic.py:814: ConvergenceWarning: lbfgs failed to converge (status=1):\n",
      "STOP: TOTAL NO. of ITERATIONS REACHED LIMIT.\n",
      "\n",
      "Increase the number of iterations (max_iter) or scale the data as shown in:\n",
      "    https://scikit-learn.org/stable/modules/preprocessing.html\n",
      "Please also refer to the documentation for alternative solver options:\n",
      "    https://scikit-learn.org/stable/modules/linear_model.html#logistic-regression\n",
      "  n_iter_i = _check_optimize_result(\n"
     ]
    },
    {
     "name": "stdout",
     "output_type": "stream",
     "text": [
      "LogisticRegressionCV()\n",
      "train score: 0.9927409988385598\n",
      "test score: 0.9525261324041812\n"
     ]
    },
    {
     "name": "stderr",
     "output_type": "stream",
     "text": [
      "/Users/khooqixiang/opt/anaconda3/lib/python3.9/site-packages/sklearn/utils/deprecation.py:87: FutureWarning: Function plot_roc_curve is deprecated; Function :func:`plot_roc_curve` is deprecated in 1.0 and will be removed in 1.2. Use one of the class methods: :meth:`sklearn.metric.RocCurveDisplay.from_predictions` or :meth:`sklearn.metric.RocCurveDisplay.from_estimator`.\n",
      "  warnings.warn(msg, category=FutureWarning)\n"
     ]
    },
    {
     "data": {
      "image/png": "[encoded data removed]",
      "text/plain": [
       "<Figure size 432x288 with 1 Axes>"
      ]
     },
     "metadata": {
      "needs_background": "light"
     },
     "output_type": "display_data"
    }
   ],
   "source": [
    "# Logistic Regression model , TFIDF\n",
    "\n",
    "# Instantiate Logistic Regression model\n",
    "logreg2 = LogisticRegressionCV()\n",
    "logreg2.fit(X_train_tfid, y_train)\n",
    "\n",
    "print(logreg2)\n",
    "print('train score:', logreg2.score(X_train_tfid.toarray(), y_train))\n",
    "print('test score:', logreg2.score(X_test_tfid.toarray(), y_test))\n",
    "\n",
    "plot_roc_curve(logreg2, X_test_tfid, y_test)\n",
    "plt.plot([0, 1], [0, 1],\n",
    "         label='baseline', linestyle='--')\n",
    "plt.legend();"
   ]
  },
  {
   "cell_type": "markdown",
   "id": "6ba188fd",
   "metadata": {},
   "source": [
    "# Random Forest"
   ]
  },
  {
   "cell_type": "code",
   "execution_count": 35,
   "id": "c1d0a999",
   "metadata": {},
   "outputs": [
    {
     "name": "stdout",
     "output_type": "stream",
     "text": [
      "y_train.shape is  (6888,)\n",
      "y_train_array.shape is  (6888,)\n",
      "RandomForestClassifier(random_state=0)\n",
      "train score: 0.9997096399535423\n",
      "test score: 0.9398954703832753\n",
      "              precision    recall  f1-score   support\n",
      "\n",
      "           0       0.93      0.94      0.93      1003\n",
      "           1       0.95      0.94      0.95      1293\n",
      "\n",
      "    accuracy                           0.94      2296\n",
      "   macro avg       0.94      0.94      0.94      2296\n",
      "weighted avg       0.94      0.94      0.94      2296\n",
      "\n"
     ]
    },
    {
     "name": "stderr",
     "output_type": "stream",
     "text": [
      "/Users/khooqixiang/opt/anaconda3/lib/python3.9/site-packages/sklearn/utils/deprecation.py:87: FutureWarning: Function plot_roc_curve is deprecated; Function :func:`plot_roc_curve` is deprecated in 1.0 and will be removed in 1.2. Use one of the class methods: :meth:`sklearn.metric.RocCurveDisplay.from_predictions` or :meth:`sklearn.metric.RocCurveDisplay.from_estimator`.\n",
      "  warnings.warn(msg, category=FutureWarning)\n"
     ]
    },
    {
     "data": {
      "image/png": "[encoded data removed]",
      "text/plain": [
       "<Figure size 432x288 with 1 Axes>"
      ]
     },
     "metadata": {
      "needs_background": "light"
     },
     "output_type": "display_data"
    }
   ],
   "source": [
    "# Random Forest , CountVectorization\n",
    "\n",
    "# Instantiate RandomForest model\n",
    "classifierrf1 = RandomForestClassifier(n_estimators=100, random_state=0)\n",
    "\n",
    "# To get it into an array form\n",
    "y_train_array = np.ravel(y_train)\n",
    "classifierrf1.fit(X_train_ngrams2, y_train)\n",
    "y_pred = classifierrf1.predict(X_test_ngrams2)\n",
    "\n",
    "# The Y training data is being stored as a vector in the data frame\n",
    "# Hence, the vector is required to be converted into a 1-D array\n",
    "# 1-D arry is the required format for model fitting \n",
    "print('y_train.shape is ',y_train.shape)\n",
    "print('y_train_array.shape is ',y_train_array.shape)\n",
    "\n",
    "print(classifierrf1)\n",
    "print('train score:', classifierrf1.score(X_train_ngrams2.toarray(), y_train))\n",
    "print('test score:', classifierrf1.score(X_test_ngrams2.toarray(), y_test))\n",
    "\n",
    "print(metrics.classification_report(y_test, y_pred))\n",
    "\n",
    "plot_roc_curve(classifierrf1, X_test_ngrams2, y_test)\n",
    "plt.plot([0, 1], [0, 1],\n",
    "         label='baseline', linestyle='--')\n",
    "plt.legend();"
   ]
  },
  {
   "cell_type": "code",
   "execution_count": 34,
   "id": "58d7cb37",
   "metadata": {},
   "outputs": [
    {
     "name": "stdout",
     "output_type": "stream",
     "text": [
      "y_train.shape is  (6888,)\n",
      "y_train_array.shape is  (6888,)\n",
      "RandomForestClassifier(random_state=0)\n",
      "train score: 0.9997096399535423\n",
      "test score: 0.9351045296167247\n",
      "              precision    recall  f1-score   support\n",
      "\n",
      "           0       0.91      0.94      0.93      1003\n",
      "           1       0.95      0.93      0.94      1293\n",
      "\n",
      "    accuracy                           0.94      2296\n",
      "   macro avg       0.93      0.94      0.93      2296\n",
      "weighted avg       0.94      0.94      0.94      2296\n",
      "\n"
     ]
    },
    {
     "name": "stderr",
     "output_type": "stream",
     "text": [
      "/Users/khooqixiang/opt/anaconda3/lib/python3.9/site-packages/sklearn/utils/deprecation.py:87: FutureWarning: Function plot_roc_curve is deprecated; Function :func:`plot_roc_curve` is deprecated in 1.0 and will be removed in 1.2. Use one of the class methods: :meth:`sklearn.metric.RocCurveDisplay.from_predictions` or :meth:`sklearn.metric.RocCurveDisplay.from_estimator`.\n",
      "  warnings.warn(msg, category=FutureWarning)\n"
     ]
    },
    {
     "data": {
      "image/png": "[encoded data removed]",
      "text/plain": [
       "<Figure size 432x288 with 1 Axes>"
      ]
     },
     "metadata": {
      "needs_background": "light"
     },
     "output_type": "display_data"
    }
   ],
   "source": [
    "# Random Forest , TFIDF\n",
    "\n",
    "# Instantiate RandomForest model\n",
    "classifierrf2 = RandomForestClassifier(n_estimators=100, random_state=0)\n",
    "\n",
    "# To get it into an array form\n",
    "y_train_array = np.ravel(y_train)\n",
    "classifierrf2.fit(X_train_tfid.toarray(), y_train)\n",
    "y_pred = classifierrf2.predict(X_test_tfid.toarray()) \n",
    "\n",
    "# The Y training data is being stored as a vector in the data frame\n",
    "# Hence, the vector is required to be converted into a 1-D array\n",
    "# 1-D arry is the required format for model fitting \n",
    "print('y_train.shape is ',y_train.shape)\n",
    "print('y_train_array.shape is ',y_train_array.shape)\n",
    "\n",
    "print(classifierrf2)\n",
    "print('train score:', classifierrf2.score(X_train_tfid.toarray(), y_train))\n",
    "print('test score:', classifierrf2.score(X_test_tfid.toarray(), y_test))\n",
    "\n",
    "print(metrics.classification_report(y_test, y_pred))\n",
    "\n",
    "plot_roc_curve(classifierrf2, X_test_tfid.toarray(), y_test)\n",
    "plt.plot([0, 1], [0, 1],\n",
    "         label='baseline', linestyle='--')\n",
    "plt.legend();"
   ]
  },
  {
   "cell_type": "markdown",
   "id": "3a889300",
   "metadata": {},
   "source": [
    "# Decision Tree"
   ]
  },
  {
   "cell_type": "code",
   "execution_count": 38,
   "id": "7f265780",
   "metadata": {},
   "outputs": [
    {
     "name": "stdout",
     "output_type": "stream",
     "text": [
      "DecisionTreeClassifier()\n",
      "train score: 0.9997096399535423\n",
      "test score: 0.9046167247386759\n",
      "accuracy score:  0.9046167247386759\n"
     ]
    },
    {
     "name": "stderr",
     "output_type": "stream",
     "text": [
      "/Users/khooqixiang/opt/anaconda3/lib/python3.9/site-packages/sklearn/utils/deprecation.py:87: FutureWarning: Function plot_roc_curve is deprecated; Function :func:`plot_roc_curve` is deprecated in 1.0 and will be removed in 1.2. Use one of the class methods: :meth:`sklearn.metric.RocCurveDisplay.from_predictions` or :meth:`sklearn.metric.RocCurveDisplay.from_estimator`.\n",
      "  warnings.warn(msg, category=FutureWarning)\n"
     ]
    },
    {
     "data": {
      "image/png": "[encoded data removed]",
      "text/plain": [
       "<Figure size 432x288 with 1 Axes>"
      ]
     },
     "metadata": {
      "needs_background": "light"
     },
     "output_type": "display_data"
    }
   ],
   "source": [
    "# Decision , CountVectorization\n",
    "\n",
    "# Instantiate Decision Tree model\n",
    "clf2 = DecisionTreeClassifier()\n",
    "clf2.fit(X_train_ngrams2, y_train)\n",
    "\n",
    "y_pred = clf2.predict(X_test_ngrams2)\n",
    "\n",
    "print(clf2)\n",
    "print('train score:', clf2.score(X_train_ngrams2, y_train))\n",
    "print('test score:', clf2.score(X_test_ngrams2, y_test))\n",
    "print('accuracy score: ',accuracy_score(y_test, y_pred))\n",
    "\n",
    "\n",
    "plot_roc_curve(clf2, X_test_ngrams2, y_test)\n",
    "plt.plot([0, 1], [0, 1],\n",
    "         label='baseline', linestyle='--')\n",
    "plt.legend();"
   ]
  },
  {
   "cell_type": "code",
   "execution_count": 37,
   "id": "67c46b12",
   "metadata": {},
   "outputs": [
    {
     "name": "stdout",
     "output_type": "stream",
     "text": [
      "DecisionTreeClassifier()\n",
      "train score: 0.9997096399535423\n",
      "test score: 0.9041811846689896\n",
      "accuracy score:  0.9041811846689896\n"
     ]
    },
    {
     "name": "stderr",
     "output_type": "stream",
     "text": [
      "/Users/khooqixiang/opt/anaconda3/lib/python3.9/site-packages/sklearn/utils/deprecation.py:87: FutureWarning: Function plot_roc_curve is deprecated; Function :func:`plot_roc_curve` is deprecated in 1.0 and will be removed in 1.2. Use one of the class methods: :meth:`sklearn.metric.RocCurveDisplay.from_predictions` or :meth:`sklearn.metric.RocCurveDisplay.from_estimator`.\n",
      "  warnings.warn(msg, category=FutureWarning)\n"
     ]
    },
    {
     "data": {
      "image/png": "[encoded data removed]",
      "text/plain": [
       "<Figure size 432x288 with 1 Axes>"
      ]
     },
     "metadata": {
      "needs_background": "light"
     },
     "output_type": "display_data"
    }
   ],
   "source": [
    "# Decision , TFIDF\n",
    "\n",
    "# Instantiate Decision Tree model\n",
    "clf1 = DecisionTreeClassifier()\n",
    "clf1.fit(X_train_tfid, y_train)\n",
    "\n",
    "y_pred = clf1.predict(X_test_tfid.toarray())\n",
    "\n",
    "print(clf1)\n",
    "print('train score:', clf1.score(X_train_tfid.toarray(), y_train))\n",
    "print('test score:', clf1.score(X_test_tfid.toarray(), y_test))\n",
    "print('accuracy score: ',accuracy_score(y_test, y_pred))\n",
    "\n",
    "\n",
    "plot_roc_curve(clf1, X_test_tfid, y_test)\n",
    "plt.plot([0, 1], [0, 1],\n",
    "         label='baseline', linestyle='--')\n",
    "plt.legend();"
   ]
  },
  {
   "cell_type": "markdown",
   "id": "60d02057",
   "metadata": {},
   "source": [
    "# Gradient Boost"
   ]
  },
  {
   "cell_type": "code",
   "execution_count": 39,
   "id": "979ef5e6",
   "metadata": {},
   "outputs": [
    {
     "name": "stdout",
     "output_type": "stream",
     "text": [
      "GradientBoostingClassifier()\n",
      "train score: 0.9108594657375145\n",
      "test score: 0.9111498257839721\n",
      "accuracy score:  0.9111498257839721\n"
     ]
    },
    {
     "name": "stderr",
     "output_type": "stream",
     "text": [
      "/Users/khooqixiang/opt/anaconda3/lib/python3.9/site-packages/sklearn/utils/deprecation.py:87: FutureWarning: Function plot_roc_curve is deprecated; Function :func:`plot_roc_curve` is deprecated in 1.0 and will be removed in 1.2. Use one of the class methods: :meth:`sklearn.metric.RocCurveDisplay.from_predictions` or :meth:`sklearn.metric.RocCurveDisplay.from_estimator`.\n",
      "  warnings.warn(msg, category=FutureWarning)\n"
     ]
    },
    {
     "data": {
      "image/png": "[encoded data removed]",
      "text/plain": [
       "<Figure size 432x288 with 1 Axes>"
      ]
     },
     "metadata": {
      "needs_background": "light"
     },
     "output_type": "display_data"
    }
   ],
   "source": [
    "# Gradient Boost, CountVectorization\n",
    "\n",
    "# Instantiate Gradient Boost model\n",
    "clf4 = GradientBoostingClassifier(n_estimators=100)\n",
    "clf4.fit(X_train_ngrams2, y_train)\n",
    "\n",
    "y_pred = clf4.predict(X_test_ngrams2)\n",
    "\n",
    "print(clf4)\n",
    "print('train score:', clf4.score(X_train_ngrams2, y_train))\n",
    "print('test score:', clf4.score(X_test_ngrams2, y_test))\n",
    "print('accuracy score: ',accuracy_score(y_test, y_pred))\n",
    "\n",
    "plot_roc_curve(clf4, X_test_ngrams2, y_test)\n",
    "plt.plot([0, 1], [0, 1],\n",
    "         label='baseline', linestyle='--')\n",
    "plt.legend();"
   ]
  },
  {
   "cell_type": "code",
   "execution_count": 40,
   "id": "56768076",
   "metadata": {},
   "outputs": [
    {
     "name": "stdout",
     "output_type": "stream",
     "text": [
      "GradientBoostingClassifier()\n",
      "train score: 0.8975029036004646\n",
      "test score: 0.8815331010452961\n",
      "accuracy score:  0.8815331010452961\n"
     ]
    },
    {
     "name": "stderr",
     "output_type": "stream",
     "text": [
      "/Users/khooqixiang/opt/anaconda3/lib/python3.9/site-packages/sklearn/utils/deprecation.py:87: FutureWarning: Function plot_roc_curve is deprecated; Function :func:`plot_roc_curve` is deprecated in 1.0 and will be removed in 1.2. Use one of the class methods: :meth:`sklearn.metric.RocCurveDisplay.from_predictions` or :meth:`sklearn.metric.RocCurveDisplay.from_estimator`.\n",
      "  warnings.warn(msg, category=FutureWarning)\n"
     ]
    },
    {
     "data": {
      "image/png": "[encoded data removed]",
      "text/plain": [
       "<Figure size 432x288 with 1 Axes>"
      ]
     },
     "metadata": {
      "needs_background": "light"
     },
     "output_type": "display_data"
    }
   ],
   "source": [
    "# Gradient Boost, TFIDF\n",
    "\n",
    "# Instantiate Gradient Boost model\n",
    "clf3 = GradientBoostingClassifier(n_estimators=100)\n",
    "clf3.fit(X_train_tfid, y_train)\n",
    "\n",
    "y_pred = clf3.predict(X_test_tfid.toarray())\n",
    "\n",
    "print(clf3)\n",
    "print('train score:', clf3.score(X_train_tfid.toarray(), y_train))\n",
    "print('test score:', clf3.score(X_test_tfid.toarray(), y_test))\n",
    "print('accuracy score: ',accuracy_score(y_test, y_pred))\n",
    "\n",
    "plot_roc_curve(clf3, X_test_tfid, y_test)\n",
    "plt.plot([0, 1], [0, 1],\n",
    "         label='baseline', linestyle='--')\n",
    "plt.legend();"
   ]
  },
  {
   "cell_type": "markdown",
   "id": "675778e7",
   "metadata": {},
   "source": [
    "# Model Evaluation\n",
    "\n",
    "\n",
    "|Different Model | CountVectorization |TFIDF |Havent decide |\n",
    "|:---:|:---:|:---:|:---:|\n",
    "|**baseline**|0 |0|79,239 (for both train/test sets combined) |\n",
    "|||\n",
    "|**linear regression**|0.866|-4.396e+19|6.088e+14|\n",
    "|||\n",
    "|**ridge**|0.872|0.820|35,343|\n",
    "|||\n",
    "|**lasso**|0.872|0.810|36,357|\n",
    "|||\n",
    "|**baseline**|0 |0|79,239 (for both train/test sets combined) |\n",
    "|||\n",
    "|**linear regression**|0.866|-4.396e+19|6.088e+14|\n",
    "|||\n",
    "|**ridge**|0.872|0.820|35,343|\n",
    "|||\n",
    "|**lasso**|0.872|0.810|36,357|"
   ]
  },
  {
   "cell_type": "code",
   "execution_count": null,
   "id": "8b91a8b3",
   "metadata": {},
   "outputs": [],
   "source": []
  }
 ],
 "metadata": {
  "kernelspec": {
   "display_name": "Python 3 (ipykernel)",
   "language": "python",
   "name": "python3"
  },
  "language_info": {
   "codemirror_mode": {
    "name": "ipython",
    "version": 3
   },
   "file_extension": ".py",
   "mimetype": "text/x-python",
   "name": "python",
   "nbconvert_exporter": "python",
   "pygments_lexer": "ipython3",
   "version": "3.9.12"
  }
 },
 "nbformat": 4,
 "nbformat_minor": 5
}
