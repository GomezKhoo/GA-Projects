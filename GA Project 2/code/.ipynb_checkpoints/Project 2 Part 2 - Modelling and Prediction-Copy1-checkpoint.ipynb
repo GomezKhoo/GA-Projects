{
 "cells": [
  {
   "cell_type": "markdown",
   "id": "014c9d81",
   "metadata": {},
   "source": [
    "# Part 3\n",
    "\n",
    "\n",
    "This notebook is the continuous of the Project 2 Part 1 - Data Cleaning, EDA, Feature engineering."
   ]
  },
  {
   "cell_type": "markdown",
   "id": "68b39d38",
   "metadata": {},
   "source": [
    "\n",
    "# Data Dictionary\n",
    "\n",
    "link: http://jse.amstat.org/v19n3/decock/DataDocumentation.txt\n",
    "\n",
    "DESCRIPTIVE ABSTRACT: Data set contains information from the Ames Assessor’s Office used in computing assessed values for individual residential properties sold in Ames, IA from 2006 to 2010.\n",
    "\n",
    "SOURCES: \n",
    "Ames, Iowa Assessor’s Office \n",
    "\n",
    "VARIABLE DESCRIPTIONS:\n",
    "Tab characters are used to separate variables in the data file. The data has 82 columns which include 23 nominal, 23 ordinal, 14 discrete, and 20 continuous variables (and 2 additional observation identifiers).\n",
    "\n",
    "Order (Discrete): Observation number\n",
    "\n",
    "PID (Nominal): Parcel identification number  - can be used with city web site for parcel review. \n",
    "\n",
    "MS SubClass (Nominal): Identifies the type of dwelling involved in the sale.\t\n",
    "\n",
    "       020\t1-STORY 1946 & NEWER ALL STYLES\n",
    "       030\t1-STORY 1945 & OLDER\n",
    "       040\t1-STORY W/FINISHED ATTIC ALL AGES\n",
    "       045\t1-1/2 STORY - UNFINISHED ALL AGES\n",
    "       050\t1-1/2 STORY FINISHED ALL AGES\n",
    "       060\t2-STORY 1946 & NEWER\n",
    "       070\t2-STORY 1945 & OLDER\n",
    "       075\t2-1/2 STORY ALL AGES\n",
    "       080\tSPLIT OR MULTI-LEVEL\n",
    "       085\tSPLIT FOYER\n",
    "       090\tDUPLEX - ALL STYLES AND AGES\n",
    "       120\t1-STORY PUD (Planned Unit Development) - 1946 & NEWER\n",
    "       150\t1-1/2 STORY PUD - ALL AGES\n",
    "       160\t2-STORY PUD - 1946 & NEWER\n",
    "       180\tPUD - MULTILEVEL - INCL SPLIT LEV/FOYER\n",
    "       190\t2 FAMILY CONVERSION - ALL STYLES AND AGES\n",
    "\n",
    "MS Zoning (Nominal): Identifies the general zoning classification of the sale.\n",
    "\t\t\n",
    "       A\tAgriculture\n",
    "       C\tCommercial\n",
    "       FV\tFloating Village Residential\n",
    "       I\tIndustrial\n",
    "       RH\tResidential High Density\n",
    "       RL\tResidential Low Density\n",
    "       RP\tResidential Low Density Park \n",
    "       RM\tResidential Medium Density\n",
    "\t\n",
    "Lot Frontage (Continuous): Linear feet of street connected to property\n",
    "\n",
    "Lot Area (Continuous): Lot size in square feet\n",
    "\n",
    "Street (Nominal): Type of road access to property\n",
    "\n",
    "       Grvl\tGravel\t\n",
    "       Pave\tPaved\n",
    "       \t\n",
    "Alley (Nominal): Type of alley access to property\n",
    "\n",
    "       Grvl\tGravel\n",
    "       Pave\tPaved\n",
    "       NA \tNo alley access\n",
    "\t\t\n",
    "Lot Shape (Ordinal): General shape of property\n",
    "\n",
    "       Reg\tRegular\t\n",
    "       IR1\tSlightly irregular\n",
    "       IR2\tModerately Irregular\n",
    "       IR3\tIrregular\n",
    "       \n",
    "Land Contour (Nominal): Flatness of the property\n",
    "\n",
    "       Lvl\tNear Flat/Level\t\n",
    "       Bnk\tBanked - Quick and significant rise from street grade to building\n",
    "       HLS\tHillside - Significant slope from side to side\n",
    "       Low\tDepression\n",
    "\t\t\n",
    "Utilities (Ordinal): Type of utilities available\n",
    "\t\t\n",
    "       AllPub\tAll public Utilities (E,G,W,& S)\t\n",
    "       NoSewr\tElectricity, Gas, and Water (Septic Tank)\n",
    "       NoSeWa\tElectricity and Gas Only\n",
    "       ELO\tElectricity only\t\n",
    "\t\n",
    "Lot Config (Nominal): Lot configuration\n",
    "\n",
    "       Inside\tInside lot\n",
    "       Corner\tCorner lot\n",
    "       CulDSac\tCul-de-sac\n",
    "       FR2\tFrontage on 2 sides of property\n",
    "       FR3\tFrontage on 3 sides of property\n",
    "\t\n",
    "Land Slope (Ordinal): Slope of property\n",
    "\t\t\n",
    "       Gtl\tGentle slope\n",
    "       Mod\tModerate Slope\t\n",
    "       Sev\tSevere Slope\n",
    "\t\n",
    "Neighborhood (Nominal): Physical locations within Ames city limits (map available)\n",
    "\n",
    "       Blmngtn\tBloomington Heights\n",
    "       Blueste\tBluestem\n",
    "       BrDale\tBriardale\n",
    "       BrkSide\tBrookside\n",
    "       ClearCr\tClear Creek\n",
    "       CollgCr\tCollege Creek\n",
    "       Crawfor\tCrawford\n",
    "       Edwards\tEdwards\n",
    "       Gilbert\tGilbert\n",
    "       Greens\tGreens\n",
    "       GrnHill\tGreen Hills\n",
    "       IDOTRR\tIowa DOT and Rail Road\n",
    "       Landmrk\tLandmark\n",
    "       MeadowV\tMeadow Village\n",
    "       Mitchel\tMitchell\n",
    "       Names\tNorth Ames\n",
    "       NoRidge\tNorthridge\n",
    "       NPkVill\tNorthpark Villa\n",
    "       NridgHt\tNorthridge Heights\n",
    "       NWAmes\tNorthwest Ames\n",
    "       OldTown\tOld Town\n",
    "       SWISU\tSouth & West of Iowa State University\n",
    "       Sawyer\tSawyer\n",
    "       SawyerW\tSawyer West\n",
    "       Somerst\tSomerset\n",
    "       StoneBr\tStone Brook\n",
    "       Timber\tTimberland\n",
    "       Veenker\tVeenker\n",
    "\t\t\t\n",
    "Condition 1 (Nominal): Proximity to various conditions\n",
    "\t\n",
    "       Artery\tAdjacent to arterial street\n",
    "       Feedr\tAdjacent to feeder street\t\n",
    "       Norm\tNormal\t\n",
    "       RRNn\tWithin 200' of North-South Railroad\n",
    "       RRAn\tAdjacent to North-South Railroad\n",
    "       PosN\tNear positive off-site feature--park, greenbelt, etc.\n",
    "       PosA\tAdjacent to postive off-site feature\n",
    "       RRNe\tWithin 200' of East-West Railroad\n",
    "       RRAe\tAdjacent to East-West Railroad\n",
    "\t\n",
    "Condition 2 (Nominal): Proximity to various conditions (if more than one is present)\n",
    "\t\t\n",
    "       Artery\tAdjacent to arterial street\n",
    "       Feedr\tAdjacent to feeder street\t\n",
    "       Norm\tNormal\t\n",
    "       RRNn\tWithin 200' of North-South Railroad\n",
    "       RRAn\tAdjacent to North-South Railroad\n",
    "       PosN\tNear positive off-site feature--park, greenbelt, etc.\n",
    "       PosA\tAdjacent to postive off-site feature\n",
    "       RRNe\tWithin 200' of East-West Railroad\n",
    "       RRAe\tAdjacent to East-West Railroad\n",
    "\t\n",
    "Bldg Type (Nominal): Type of dwelling\n",
    "\t\t\n",
    "       1Fam\tSingle-family Detached\t\n",
    "       2FmCon\tTwo-family Conversion; originally built as one-family dwelling\n",
    "       Duplx\tDuplex\n",
    "       TwnhsE\tTownhouse End Unit\n",
    "       TwnhsI\tTownhouse Inside Unit\n",
    "\t\n",
    "House Style (Nominal): Style of dwelling\n",
    "\t\n",
    "       1Story\tOne story\n",
    "       1.5Fin\tOne and one-half story: 2nd level finished\n",
    "       1.5Unf\tOne and one-half story: 2nd level unfinished\n",
    "       2Story\tTwo story\n",
    "       2.5Fin\tTwo and one-half story: 2nd level finished\n",
    "       2.5Unf\tTwo and one-half story: 2nd level unfinished\n",
    "       SFoyer\tSplit Foyer\n",
    "       SLvl\tSplit Level\n",
    "\t\n",
    "Overall Qual (Ordinal): Rates the overall material and finish of the house\n",
    "\n",
    "       10\tVery Excellent\n",
    "       9\tExcellent\n",
    "       8\tVery Good\n",
    "       7\tGood\n",
    "       6\tAbove Average\n",
    "       5\tAverage\n",
    "       4\tBelow Average\n",
    "       3\tFair\n",
    "       2\tPoor\n",
    "       1\tVery Poor\n",
    "\t\n",
    "Overall Cond (Ordinal): Rates the overall condition of the house\n",
    "\n",
    "       10\tVery Excellent\n",
    "       9\tExcellent\n",
    "       8\tVery Good\n",
    "       7\tGood\n",
    "       6\tAbove Average\t\n",
    "       5\tAverage\n",
    "       4\tBelow Average\t\n",
    "       3\tFair\n",
    "       2\tPoor\n",
    "       1\tVery Poor\n",
    "\t\t\n",
    "Year Built (Discrete): Original construction date\n",
    "\n",
    "Year Remod/Add (Discrete): Remodel date (same as construction date if no remodeling or additions)\n",
    "\n",
    "Roof Style (Nominal): Type of roof\n",
    "\n",
    "       Flat\tFlat\n",
    "       Gable\tGable\n",
    "       Gambrel\tGabrel (Barn)\n",
    "       Hip\tHip\n",
    "       Mansard\tMansard\n",
    "       Shed\tShed\n",
    "\t\t\n",
    "Roof Matl (Nominal): Roof material\n",
    "\n",
    "       ClyTile\tClay or Tile\n",
    "       CompShg\tStandard (Composite) Shingle\n",
    "       Membran\tMembrane\n",
    "       Metal\tMetal\n",
    "       Roll\tRoll\n",
    "       Tar&Grv\tGravel & Tar\n",
    "       WdShake\tWood Shakes\n",
    "       WdShngl\tWood Shingles\n",
    "\t\t\n",
    "Exterior 1 (Nominal): Exterior covering on house\n",
    "\n",
    "       AsbShng\tAsbestos Shingles\n",
    "       AsphShn\tAsphalt Shingles\n",
    "       BrkComm\tBrick Common\n",
    "       BrkFace\tBrick Face\n",
    "       CBlock\tCinder Block\n",
    "       CemntBd\tCement Board\n",
    "       HdBoard\tHard Board\n",
    "       ImStucc\tImitation Stucco\n",
    "       MetalSd\tMetal Siding\n",
    "       Other\tOther\n",
    "       Plywood\tPlywood\n",
    "       PreCast\tPreCast\t\n",
    "       Stone\tStone\n",
    "       Stucco\tStucco\n",
    "       VinylSd\tVinyl Siding\n",
    "       Wd Sdng\tWood Siding\n",
    "       WdShing\tWood Shingles\n",
    "\t\n",
    "Exterior 2 (Nominal): Exterior covering on house (if more than one material)\n",
    "\n",
    "       AsbShng\tAsbestos Shingles\n",
    "       AsphShn\tAsphalt Shingles\n",
    "       BrkComm\tBrick Common\n",
    "       BrkFace\tBrick Face\n",
    "       CBlock\tCinder Block\n",
    "       CemntBd\tCement Board\n",
    "       HdBoard\tHard Board\n",
    "       ImStucc\tImitation Stucco\n",
    "       MetalSd\tMetal Siding\n",
    "       Other\tOther\n",
    "       Plywood\tPlywood\n",
    "       PreCast\tPreCast\n",
    "       Stone\tStone\n",
    "       Stucco\tStucco\n",
    "       VinylSd\tVinyl Siding\n",
    "       Wd Sdng\tWood Siding\n",
    "       WdShing\tWood Shingles\n",
    "\t\n",
    "Mas Vnr Type (Nominal): Masonry veneer type\n",
    "\n",
    "       BrkCmn\tBrick Common\n",
    "       BrkFace\tBrick Face\n",
    "       CBlock\tCinder Block\n",
    "       None\tNone\n",
    "       Stone\tStone\n",
    "\t\n",
    "Mas Vnr Area (Continuous): Masonry veneer area in square feet\n",
    "\n",
    "Exter Qual (Ordinal): Evaluates the quality of the material on the exterior \n",
    "\t\t\n",
    "       Ex\tExcellent\n",
    "       Gd\tGood\n",
    "       TA\tAverage/Typical\n",
    "       Fa\tFair\n",
    "       Po\tPoor\n",
    "\t\t\n",
    "Exter Cond (Ordinal): Evaluates the present condition of the material on the exterior\n",
    "\t\t\n",
    "       Ex\tExcellent\n",
    "       Gd\tGood\n",
    "       TA\tAverage/Typical\n",
    "       Fa\tFair\n",
    "       Po\tPoor\n",
    "\t\t\n",
    "Foundation (Nominal): Type of foundation\n",
    "\t\t\n",
    "       BrkTil\tBrick & Tile\n",
    "       CBlock\tCinder Block\n",
    "       PConc\tPoured Contrete\t\n",
    "       Slab\tSlab\n",
    "       Stone\tStone\n",
    "       Wood\tWood\n",
    "\t\t\n",
    "Bsmt Qual (Ordinal): Evaluates the height of the basement\n",
    "\n",
    "       Ex\tExcellent (100+ inches)\t\n",
    "       Gd\tGood (90-99 inches)\n",
    "       TA\tTypical (80-89 inches)\n",
    "       Fa\tFair (70-79 inches)\n",
    "       Po\tPoor (<70 inches\n",
    "       NA\tNo Basement\n",
    "\t\t\n",
    "Bsmt Cond (Ordinal): Evaluates the general condition of the basement\n",
    "\n",
    "       Ex\tExcellent\n",
    "       Gd\tGood\n",
    "       TA\tTypical - slight dampness allowed\n",
    "       Fa\tFair - dampness or some cracking or settling\n",
    "       Po\tPoor - Severe cracking, settling, or wetness\n",
    "       NA\tNo Basement\n",
    "\t\n",
    "Bsmt Exposure\t(Ordinal): Refers to walkout or garden level walls\n",
    "\n",
    "       Gd\tGood Exposure\n",
    "       Av\tAverage Exposure (split levels or foyers typically score average or above)\t\n",
    "       Mn\tMimimum Exposure\n",
    "       No\tNo Exposure\n",
    "       NA\tNo Basement\n",
    "\t\n",
    "BsmtFin Type 1\t(Ordinal): Rating of basement finished area\n",
    "\n",
    "       GLQ\tGood Living Quarters\n",
    "       ALQ\tAverage Living Quarters\n",
    "       BLQ\tBelow Average Living Quarters\t\n",
    "       Rec\tAverage Rec Room\n",
    "       LwQ\tLow Quality\n",
    "       Unf\tUnfinshed\n",
    "       NA\tNo Basement\n",
    "\t\t\n",
    "BsmtFin SF 1 (Continuous): Type 1 finished square feet\n",
    "\n",
    "BsmtFinType 2\t(Ordinal): Rating of basement finished area (if multiple types)\n",
    "\n",
    "       GLQ\tGood Living Quarters\n",
    "       ALQ\tAverage Living Quarters\n",
    "       BLQ\tBelow Average Living Quarters\t\n",
    "       Rec\tAverage Rec Room\n",
    "       LwQ\tLow Quality\n",
    "       Unf\tUnfinshed\n",
    "       NA\tNo Basement\n",
    "\n",
    "BsmtFin SF 2 (Continuous): Type 2 finished square feet\n",
    "\n",
    "Bsmt Unf SF (Continuous): Unfinished square feet of basement area\n",
    "\n",
    "Total Bsmt SF (Continuous): Total square feet of basement area\n",
    "\n",
    "Heating\t(Nominal): Type of heating\n",
    "\t\t\n",
    "       Floor\tFloor Furnace\n",
    "       GasA\tGas forced warm air furnace\n",
    "       GasW\tGas hot water or steam heat\n",
    "       Grav\tGravity furnace\t\n",
    "       OthW\tHot water or steam heat other than gas\n",
    "       Wall\tWall furnace\n",
    "\t\t\n",
    "HeatingQC (Ordinal): Heating quality and condition\n",
    "\n",
    "       Ex\tExcellent\n",
    "       Gd\tGood\n",
    "       TA\tAverage/Typical\n",
    "       Fa\tFair\n",
    "       Po\tPoor\n",
    "\t\t\n",
    "Central Air (Nominal): Central air conditioning\n",
    "\n",
    "       N\tNo\n",
    "       Y\tYes\n",
    "\t\t\n",
    "Electrical (Ordinal): Electrical system\n",
    "\n",
    "       SBrkr\tStandard Circuit Breakers & Romex\n",
    "       FuseA\tFuse Box over 60 AMP and all Romex wiring (Average)\t\n",
    "       FuseF\t60 AMP Fuse Box and mostly Romex wiring (Fair)\n",
    "       FuseP\t60 AMP Fuse Box and mostly knob & tube wiring (poor)\n",
    "       Mix\tMixed\n",
    "\t\t\n",
    "1st Flr SF (Continuous): First Floor square feet\n",
    " \n",
    "2nd Flr SF (Continuous)\t: Second floor square feet\n",
    "\n",
    "Low Qual Fin SF (Continuous): Low quality finished square feet (all floors)\n",
    "\n",
    "Gr Liv Area (Continuous): Above grade (ground) living area square feet\n",
    "\n",
    "Bsmt Full Bath (Discrete): Basement full bathrooms\n",
    "\n",
    "Bsmt Half Bath (Discrete): Basement half bathrooms\n",
    "\n",
    "Full Bath (Discrete): Full bathrooms above grade\n",
    "\n",
    "Half Bath (Discrete): Half baths above grade\n",
    "\n",
    "Bedroom (Discrete): Bedrooms above grade (does NOT include basement bedrooms)\n",
    "\n",
    "Kitchen (Discrete): Kitchens above grade\n",
    "\n",
    "KitchenQual (Ordinal): Kitchen quality\n",
    "\n",
    "       Ex\tExcellent\n",
    "       Gd\tGood\n",
    "       TA\tTypical/Average\n",
    "       Fa\tFair\n",
    "       Po\tPoor\n",
    "       \t\n",
    "TotRmsAbvGrd\t(Discrete): Total rooms above grade (does not include bathrooms)\n",
    "\n",
    "Functional (Ordinal): Home functionality (Assume typical unless deductions are warranted)\n",
    "\n",
    "       Typ\tTypical Functionality\n",
    "       Min1\tMinor Deductions 1\n",
    "       Min2\tMinor Deductions 2\n",
    "       Mod\tModerate Deductions\n",
    "       Maj1\tMajor Deductions 1\n",
    "       Maj2\tMajor Deductions 2\n",
    "       Sev\tSeverely Damaged\n",
    "       Sal\tSalvage only\n",
    "\t\t\n",
    "Fireplaces (Discrete): Number of fireplaces\n",
    "\n",
    "FireplaceQu (Ordinal): Fireplace quality\n",
    "\n",
    "       Ex\tExcellent - Exceptional Masonry Fireplace\n",
    "       Gd\tGood - Masonry Fireplace in main level\n",
    "       TA\tAverage - Prefabricated Fireplace in main living area or Masonry Fireplace in basement\n",
    "       Fa\tFair - Prefabricated Fireplace in basement\n",
    "       Po\tPoor - Ben Franklin Stove\n",
    "       NA\tNo Fireplace\n",
    "\t\t\n",
    "Garage Type (Nominal): Garage location\n",
    "\t\t\n",
    "       2Types\tMore than one type of garage\n",
    "       Attchd\tAttached to home\n",
    "       Basment\tBasement Garage\n",
    "       BuiltIn\tBuilt-In (Garage part of house - typically has room above garage)\n",
    "       CarPort\tCar Port\n",
    "       Detchd\tDetached from home\n",
    "       NA\tNo Garage\n",
    "\t\t\n",
    "Garage Yr Blt (Discrete): Year garage was built\n",
    "\t\t\n",
    "Garage Finish (Ordinal)\t: Interior finish of the garage\n",
    "\n",
    "       Fin\tFinished\n",
    "       RFn\tRough Finished\t\n",
    "       Unf\tUnfinished\n",
    "       NA\tNo Garage\n",
    "\t\t\n",
    "Garage Cars (Discrete): Size of garage in car capacity\n",
    "\n",
    "Garage Area (Continuous): Size of garage in square feet\n",
    "\n",
    "Garage Qual (Ordinal): Garage quality\n",
    "\n",
    "       Ex\tExcellent\n",
    "       Gd\tGood\n",
    "       TA\tTypical/Average\n",
    "       Fa\tFair\n",
    "       Po\tPoor\n",
    "       NA\tNo Garage\n",
    "\t\t\n",
    "Garage Cond (Ordinal): Garage condition\n",
    "\n",
    "       Ex\tExcellent\n",
    "       Gd\tGood\n",
    "       TA\tTypical/Average\n",
    "       Fa\tFair\n",
    "       Po\tPoor\n",
    "       NA\tNo Garage\n",
    "\t\t\n",
    "Paved Drive (Ordinal): Paved driveway\n",
    "\n",
    "       Y\tPaved \n",
    "       P\tPartial Pavement\n",
    "       N\tDirt/Gravel\n",
    "\t\t\n",
    "Wood Deck SF (Continuous): Wood deck area in square feet\n",
    "\n",
    "Open Porch SF (Continuous): Open porch area in square feet\n",
    "\n",
    "Enclosed Porch (Continuous): Enclosed porch area in square feet\n",
    "\n",
    "3-Ssn Porch (Continuous): Three season porch area in square feet\n",
    "\n",
    "Screen Porch (Continuous): Screen porch area in square feet\n",
    "\n",
    "Pool Area (Continuous): Pool area in square feet\n",
    "\n",
    "Pool QC (Ordinal): Pool quality\n",
    "\t\t\n",
    "       Ex\tExcellent\n",
    "       Gd\tGood\n",
    "       TA\tAverage/Typical\n",
    "       Fa\tFair\n",
    "       NA\tNo Pool\n",
    "\t\t\n",
    "Fence (Ordinal): Fence quality\n",
    "\t\t\n",
    "       GdPrv\tGood Privacy\n",
    "       MnPrv\tMinimum Privacy\n",
    "       GdWo\tGood Wood\n",
    "       MnWw\tMinimum Wood/Wire\n",
    "       NA\tNo Fence\n",
    "\t\n",
    "Misc Feature (Nominal): Miscellaneous feature not covered in other categories\n",
    "\t\t\n",
    "       Elev\tElevator\n",
    "       Gar2\t2nd Garage (if not described in garage section)\n",
    "       Othr\tOther\n",
    "       Shed\tShed (over 100 SF)\n",
    "       TenC\tTennis Court\n",
    "       NA\tNone\n",
    "\t\t\n",
    "Misc Val (Continuous): $Value of miscellaneous feature\n",
    "\n",
    "Mo Sold (Discrete): Month Sold (MM)\n",
    "\n",
    "Yr Sold (Discrete): Year Sold (YYYY)\n",
    "\n",
    "Sale Type (Nominal): Type of sale\n",
    "\t\t\n",
    "       WD \tWarranty Deed - Conventional\n",
    "       CWD\tWarranty Deed - Cash\n",
    "       VWD\tWarranty Deed - VA Loan\n",
    "       New\tHome just constructed and sold\n",
    "       COD\tCourt Officer Deed/Estate\n",
    "       Con\tContract 15% Down payment regular terms\n",
    "       ConLw\tContract Low Down payment and low interest\n",
    "       ConLI\tContract Low Interest\n",
    "       ConLD\tContract Low Down\n",
    "       Oth\tOther\n",
    "\t\t\n",
    "Sale Condition (Nominal): Condition of sale\n",
    "\n",
    "       Normal\tNormal Sale\n",
    "       Abnorml\tAbnormal Sale -  trade, foreclosure, short sale\n",
    "       AdjLand\tAdjoining Land Purchase\n",
    "       Alloca\tAllocation - two linked properties with separate deeds, typically condo with a garage unit\t\n",
    "       Family\tSale between family members\n",
    "       Partial\tHome was not completed when last assessed (associated with New Homes)\n",
    "\t\t\n",
    "SalePrice (Continuous): Sale price $$"
   ]
  },
  {
   "cell_type": "markdown",
   "id": "9253fd17",
   "metadata": {},
   "source": [
    "ames_train = Original\n",
    "ames_train11 = Final data cleaning, with features needed to drop are drop and new features added in.\n",
    "ames_train12 = Final data cleaning, with features needed to drop are drop and new features added in. And with dummies\n",
    "\n",
    "ames_test = Original\n",
    "ames_test1 = With features needed to drop are drop and new features added in. And with dummies"
   ]
  },
  {
   "cell_type": "markdown",
   "id": "5f6c238b",
   "metadata": {},
   "source": [
    "# Importing Data and Packages"
   ]
  },
  {
   "cell_type": "code",
   "execution_count": 37,
   "id": "2b39b711",
   "metadata": {},
   "outputs": [],
   "source": [
    "# Standard Imports\n",
    "import pandas as pd\n",
    "import numpy as np\n",
    "import matplotlib.pyplot as plt\n",
    "import seaborn as sns\n",
    "import seaborn as sb\n",
    "import matplotlib.pyplot as mp\n",
    "\n",
    "# Libraries to use for Linear Regression Modeling\n",
    "from sklearn.model_selection import train_test_split, cross_val_score\n",
    "from sklearn.linear_model import LinearRegression, LassoCV, RidgeCV, Ridge, Lasso\n",
    "from sklearn.preprocessing import StandardScaler, PolynomialFeatures, PowerTransformer\n",
    "from sklearn.metrics import r2_score, mean_squared_error\n",
    "from sklearn import metrics\n",
    "from math import sqrt\n",
    "\n",
    "\n",
    "%matplotlib inline "
   ]
  },
  {
   "cell_type": "code",
   "execution_count": 2,
   "id": "e0be2cd9",
   "metadata": {},
   "outputs": [],
   "source": [
    "ames_train11 = pd.read_csv('../datasets/ames_train11.csv')\n",
    "ames_test1 = pd.read_csv('../datasets/ames_test1.csv')"
   ]
  },
  {
   "cell_type": "code",
   "execution_count": 3,
   "id": "7b59b127",
   "metadata": {},
   "outputs": [
    {
     "data": {
      "text/plain": [
       "(2024, 39)"
      ]
     },
     "execution_count": 3,
     "metadata": {},
     "output_type": "execute_result"
    }
   ],
   "source": [
    "ames_train11.shape"
   ]
  },
  {
   "cell_type": "code",
   "execution_count": 4,
   "id": "7cb08c48",
   "metadata": {},
   "outputs": [
    {
     "data": {
      "text/plain": [
       "(878, 38)"
      ]
     },
     "execution_count": 4,
     "metadata": {},
     "output_type": "execute_result"
    }
   ],
   "source": [
    "ames_test1.shape"
   ]
  },
  {
   "cell_type": "code",
   "execution_count": 5,
   "id": "17353505",
   "metadata": {},
   "outputs": [
    {
     "name": "stdout",
     "output_type": "stream",
     "text": [
      "age                   -0.572322\n",
      "ms_subclass           -0.085332\n",
      "bsmt_half_bath        -0.044108\n",
      "low_qual_fin_sf       -0.041166\n",
      "Unnamed: 0             0.033028\n",
      "functional             0.126803\n",
      "lot_frontage           0.183445\n",
      "2nd_flr_sf             0.251325\n",
      "bsmt_full_bath         0.285615\n",
      "lot_area               0.303137\n",
      "wood_deck_sf           0.329865\n",
      "porch_total            0.331748\n",
      "kitchen_and_qual       0.455646\n",
      "heatingmod             0.457589\n",
      "totrms_abvgrd          0.511007\n",
      "mas_vnr_area           0.520501\n",
      "fireplaces_and_qual    0.522129\n",
      "full_bath              0.538732\n",
      "year_remod/add         0.549903\n",
      "overall_qual_cond      0.565561\n",
      "exter_qual_cond        0.597062\n",
      "1st_flr_sf             0.654694\n",
      "bsmt                   0.716735\n",
      "gr_liv_area            0.721925\n",
      "garage                 0.767051\n",
      "saleprice              1.000000\n",
      "Name: saleprice, dtype: float64\n"
     ]
    }
   ],
   "source": [
    "print(ames_train11.corr()['saleprice'].sort_values())"
   ]
  },
  {
   "cell_type": "code",
   "execution_count": 6,
   "id": "8747f162",
   "metadata": {},
   "outputs": [
    {
     "data": {
      "image/png": "[encoded data removed]",
      "text/plain": [
       "<Figure size 3600x3600 with 2 Axes>"
      ]
     },
     "metadata": {
      "needs_background": "light"
     },
     "output_type": "display_data"
    }
   ],
   "source": [
    "matrix = ames_train11.corr()\n",
    "mask = np.zeros_like(matrix)\n",
    "mask[np.triu_indices_from(mask)] = True\n",
    "\n",
    "plt.figure(figsize=(50,50))\n",
    "sns.heatmap(ames_train11.corr(), mask=mask, annot=True, vmin = -1, vmax=1, cmap='coolwarm').set(title= 'Heatmap for correlation between values in train data');"
   ]
  },
  {
   "cell_type": "code",
   "execution_count": 7,
   "id": "78f435aa",
   "metadata": {},
   "outputs": [
    {
     "data": {
      "text/plain": [
       "Unnamed: 0             0\n",
       "ms_subclass            0\n",
       "ms_zoning              0\n",
       "lot_frontage           0\n",
       "lot_area               0\n",
       "street                 0\n",
       "alley                  0\n",
       "neighborhood           0\n",
       "year_remod/add         0\n",
       "exterior_1st           0\n",
       "exterior_2nd           0\n",
       "mas_vnr_type           0\n",
       "mas_vnr_area           0\n",
       "foundation             0\n",
       "bsmt_cond              0\n",
       "1st_flr_sf             0\n",
       "2nd_flr_sf             0\n",
       "low_qual_fin_sf        0\n",
       "gr_liv_area            0\n",
       "bsmt_full_bath         0\n",
       "bsmt_half_bath         0\n",
       "full_bath              0\n",
       "totrms_abvgrd          0\n",
       "functional             0\n",
       "garage_type            0\n",
       "garage_cond            0\n",
       "paved_drive            0\n",
       "wood_deck_sf           0\n",
       "sale_type              0\n",
       "saleprice              0\n",
       "exter_qual_cond        0\n",
       "overall_qual_cond      0\n",
       "bsmt                   0\n",
       "heatingmod             0\n",
       "kitchen_and_qual       0\n",
       "fireplaces_and_qual    0\n",
       "garage                 0\n",
       "porch_total            0\n",
       "age                    0\n",
       "dtype: int64"
      ]
     },
     "execution_count": 7,
     "metadata": {},
     "output_type": "execute_result"
    }
   ],
   "source": [
    "ames_train11.isnull().sum()"
   ]
  },
  {
   "cell_type": "code",
   "execution_count": 8,
   "id": "e0088fcd",
   "metadata": {},
   "outputs": [],
   "source": [
    "ames_train11.drop(columns=['heatingmod'], inplace =True)\n",
    "ames_test1.drop(columns=['heatingmod'], inplace =True)"
   ]
  },
  {
   "cell_type": "code",
   "execution_count": 9,
   "id": "eadf85ea",
   "metadata": {},
   "outputs": [
    {
     "name": "stdout",
     "output_type": "stream",
     "text": [
      "<class 'pandas.core.frame.DataFrame'>\n",
      "RangeIndex: 2024 entries, 0 to 2023\n",
      "Data columns (total 38 columns):\n",
      " #   Column               Non-Null Count  Dtype  \n",
      "---  ------               --------------  -----  \n",
      " 0   Unnamed: 0           2024 non-null   int64  \n",
      " 1   ms_subclass          2024 non-null   int64  \n",
      " 2   ms_zoning            2024 non-null   object \n",
      " 3   lot_frontage         2024 non-null   float64\n",
      " 4   lot_area             2024 non-null   int64  \n",
      " 5   street               2024 non-null   object \n",
      " 6   alley                2024 non-null   object \n",
      " 7   neighborhood         2024 non-null   object \n",
      " 8   year_remod/add       2024 non-null   int64  \n",
      " 9   exterior_1st         2024 non-null   object \n",
      " 10  exterior_2nd         2024 non-null   object \n",
      " 11  mas_vnr_type         2024 non-null   object \n",
      " 12  mas_vnr_area         2024 non-null   float64\n",
      " 13  foundation           2024 non-null   object \n",
      " 14  bsmt_cond            2024 non-null   object \n",
      " 15  1st_flr_sf           2024 non-null   int64  \n",
      " 16  2nd_flr_sf           2024 non-null   int64  \n",
      " 17  low_qual_fin_sf      2024 non-null   int64  \n",
      " 18  gr_liv_area          2024 non-null   int64  \n",
      " 19  bsmt_full_bath       2024 non-null   float64\n",
      " 20  bsmt_half_bath       2024 non-null   float64\n",
      " 21  full_bath            2024 non-null   int64  \n",
      " 22  totrms_abvgrd        2024 non-null   int64  \n",
      " 23  functional           2024 non-null   int64  \n",
      " 24  garage_type          2024 non-null   object \n",
      " 25  garage_cond          2024 non-null   object \n",
      " 26  paved_drive          2024 non-null   object \n",
      " 27  wood_deck_sf         2024 non-null   int64  \n",
      " 28  sale_type            2024 non-null   object \n",
      " 29  saleprice            2024 non-null   int64  \n",
      " 30  exter_qual_cond      2024 non-null   int64  \n",
      " 31  overall_qual_cond    2024 non-null   int64  \n",
      " 32  bsmt                 2024 non-null   float64\n",
      " 33  kitchen_and_qual     2024 non-null   int64  \n",
      " 34  fireplaces_and_qual  2024 non-null   int64  \n",
      " 35  garage               2024 non-null   float64\n",
      " 36  porch_total          2024 non-null   int64  \n",
      " 37  age                  2024 non-null   int64  \n",
      "dtypes: float64(6), int64(19), object(13)\n",
      "memory usage: 601.0+ KB\n"
     ]
    }
   ],
   "source": [
    "ames_train11.info()"
   ]
  },
  {
   "cell_type": "code",
   "execution_count": 10,
   "id": "2d7f65df",
   "metadata": {},
   "outputs": [
    {
     "name": "stdout",
     "output_type": "stream",
     "text": [
      "<class 'pandas.core.frame.DataFrame'>\n",
      "RangeIndex: 878 entries, 0 to 877\n",
      "Data columns (total 37 columns):\n",
      " #   Column               Non-Null Count  Dtype  \n",
      "---  ------               --------------  -----  \n",
      " 0   Unnamed: 0           878 non-null    int64  \n",
      " 1   ms_subclass          878 non-null    int64  \n",
      " 2   ms_zoning            878 non-null    object \n",
      " 3   lot_frontage         878 non-null    float64\n",
      " 4   lot_area             878 non-null    int64  \n",
      " 5   street               878 non-null    object \n",
      " 6   alley                878 non-null    object \n",
      " 7   neighborhood         878 non-null    object \n",
      " 8   year_remod/add       878 non-null    int64  \n",
      " 9   exterior_1st         878 non-null    object \n",
      " 10  exterior_2nd         878 non-null    object \n",
      " 11  mas_vnr_type         878 non-null    object \n",
      " 12  mas_vnr_area         878 non-null    float64\n",
      " 13  foundation           878 non-null    object \n",
      " 14  bsmt_cond            878 non-null    float64\n",
      " 15  1st_flr_sf           878 non-null    int64  \n",
      " 16  2nd_flr_sf           878 non-null    int64  \n",
      " 17  low_qual_fin_sf      878 non-null    int64  \n",
      " 18  gr_liv_area          878 non-null    int64  \n",
      " 19  bsmt_full_bath       878 non-null    int64  \n",
      " 20  bsmt_half_bath       878 non-null    int64  \n",
      " 21  full_bath            878 non-null    int64  \n",
      " 22  totrms_abvgrd        878 non-null    int64  \n",
      " 23  functional           878 non-null    int64  \n",
      " 24  garage_type          878 non-null    object \n",
      " 25  garage_cond          878 non-null    float64\n",
      " 26  paved_drive          878 non-null    object \n",
      " 27  wood_deck_sf         878 non-null    int64  \n",
      " 28  sale_type            878 non-null    object \n",
      " 29  exter_qual_cond      878 non-null    int64  \n",
      " 30  overall_qual_cond    878 non-null    int64  \n",
      " 31  bsmt                 878 non-null    float64\n",
      " 32  kitchen_and_qual     878 non-null    int64  \n",
      " 33  fireplaces_and_qual  878 non-null    float64\n",
      " 34  garage               878 non-null    float64\n",
      " 35  porch_total          878 non-null    int64  \n",
      " 36  age                  878 non-null    int64  \n",
      "dtypes: float64(7), int64(19), object(11)\n",
      "memory usage: 253.9+ KB\n"
     ]
    }
   ],
   "source": [
    "ames_test1.info()"
   ]
  },
  {
   "cell_type": "code",
   "execution_count": 11,
   "id": "af8f3489",
   "metadata": {},
   "outputs": [],
   "source": [
    "ames_train12 = pd.get_dummies(ames_train11, columns=['ms_zoning',\n",
    "                                                      'street',\n",
    "                                                      'alley',\n",
    "                                                      'neighborhood',\n",
    "                                                      'exterior_1st',\n",
    "                                                      'exterior_2nd',\n",
    "                                                      'mas_vnr_type',\n",
    "                                                      'foundation',\n",
    "                                                      'bsmt_cond',\n",
    "                                                      'garage_type',\n",
    "                                                      'garage_cond',\n",
    "                                                      'paved_drive',\n",
    "                                                      'sale_type',\n",
    "                                                    ],\n",
    "                                                    drop_first=True)"
   ]
  },
  {
   "cell_type": "markdown",
   "id": "eb5096a5",
   "metadata": {},
   "source": [
    "# Standard Scaling and Train/Test Split"
   ]
  },
  {
   "cell_type": "code",
   "execution_count": 12,
   "id": "113c3238",
   "metadata": {},
   "outputs": [],
   "source": [
    "# Features used for the model\n",
    "features = ['ms_subclass',\n",
    "            'ms_zoning',\n",
    "            'lot_frontage',\n",
    "            'lot_area',\n",
    "            'street',\n",
    "            'alley',\n",
    "            'neighborhood',\n",
    "            'year_remod/add',\n",
    "            'exterior_1st',\n",
    "            'exterior_2nd',\n",
    "            'mas_vnr_type',\n",
    "            'mas_vnr_area',\n",
    "            'foundation',\n",
    "            'bsmt_cond',\n",
    "            '1st_flr_sf',\n",
    "            '2nd_flr_sf',\n",
    "            'low_qual_fin_sf',\n",
    "            'gr_liv_area',\n",
    "            'bsmt_full_bath',\n",
    "            'bsmt_half_bath',\n",
    "            'full_bath',\n",
    "            'totrms_abvgrd',\n",
    "            'functional',\n",
    "            'garage_type',\n",
    "            'garage_cond',\n",
    "            'paved_drive',\n",
    "            'wood_deck_sf',\n",
    "            'sale_type',\n",
    "            'exter_qual_cond',\n",
    "            'overall_qual_cond',\n",
    "            'bsmt',\n",
    "            'kitchen_and_qual',\n",
    "            'fireplaces_and_qual',\n",
    "            'garage',\n",
    "            'porch_total',\n",
    "            'age']"
   ]
  },
  {
   "cell_type": "code",
   "execution_count": 13,
   "id": "84c64fcb",
   "metadata": {},
   "outputs": [],
   "source": [
    "X = ames_train11[features]\n",
    "\n",
    "# To hot encode for categorial features used\n",
    "X = pd.get_dummies(columns=['ms_zoning',\n",
    "                            'street',\n",
    "                            'alley',\n",
    "                            'neighborhood',\n",
    "                            'exterior_1st',\n",
    "                            'exterior_2nd',\n",
    "                            'mas_vnr_type',\n",
    "                            'foundation',\n",
    "                            'bsmt_cond',\n",
    "                            'garage_type',\n",
    "                            'garage_cond',\n",
    "                            'paved_drive',\n",
    "                            'sale_type',\n",
    "                            ],drop_first=True, data = X)\n",
    "\n",
    "y = ames_train11['saleprice']\n",
    "\n",
    "X_test = ames_test1[features]\n",
    "X_test = pd.get_dummies(columns=['ms_zoning',\n",
    "                                 'street',\n",
    "                                 'alley',\n",
    "                                 'neighborhood',\n",
    "                                 'exterior_1st',\n",
    "                                 'exterior_2nd',\n",
    "                                 'mas_vnr_type',\n",
    "                                 'foundation',\n",
    "                                 'bsmt_cond',\n",
    "                                 'garage_type',\n",
    "                                 'garage_cond',\n",
    "                                 'paved_drive',\n",
    "                                 'sale_type',\n",
    "                                 ],drop_first=True, data = X_test)"
   ]
  },
  {
   "cell_type": "code",
   "execution_count": 14,
   "id": "3638e555",
   "metadata": {},
   "outputs": [
    {
     "data": {
      "text/plain": [
       "Index(['ms_subclass', 'lot_frontage', 'lot_area', 'year_remod/add',\n",
       "       'mas_vnr_area', '1st_flr_sf', '2nd_flr_sf', 'low_qual_fin_sf',\n",
       "       'gr_liv_area', 'bsmt_full_bath',\n",
       "       ...\n",
       "       'paved_drive_Y', 'sale_type_CWD', 'sale_type_Con', 'sale_type_ConLD',\n",
       "       'sale_type_ConLI', 'sale_type_ConLw', 'sale_type_New', 'sale_type_Oth',\n",
       "       'sale_type_VWD', 'sale_type_WD '],\n",
       "      dtype='object', length=118)"
      ]
     },
     "execution_count": 14,
     "metadata": {},
     "output_type": "execute_result"
    }
   ],
   "source": [
    "X_test.columns"
   ]
  },
  {
   "cell_type": "code",
   "execution_count": 15,
   "id": "3b3ad43a",
   "metadata": {},
   "outputs": [
    {
     "data": {
      "text/plain": [
       "Index(['ms_subclass', 'lot_frontage', 'lot_area', 'year_remod/add',\n",
       "       'mas_vnr_area', '1st_flr_sf', '2nd_flr_sf', 'low_qual_fin_sf',\n",
       "       'gr_liv_area', 'bsmt_full_bath',\n",
       "       ...\n",
       "       'paved_drive_P', 'paved_drive_Y', 'sale_type_CWD', 'sale_type_Con',\n",
       "       'sale_type_ConLD', 'sale_type_ConLI', 'sale_type_ConLw',\n",
       "       'sale_type_New', 'sale_type_Oth', 'sale_type_WD '],\n",
       "      dtype='object', length=121)"
      ]
     },
     "execution_count": 15,
     "metadata": {},
     "output_type": "execute_result"
    }
   ],
   "source": [
    "X.columns"
   ]
  },
  {
   "cell_type": "code",
   "execution_count": 16,
   "id": "678c12fc",
   "metadata": {},
   "outputs": [
    {
     "data": {
      "text/plain": [
       "((878, 118), (2024, 121))"
      ]
     },
     "execution_count": 16,
     "metadata": {},
     "output_type": "execute_result"
    }
   ],
   "source": [
    "X_test.shape, X.shape"
   ]
  },
  {
   "cell_type": "code",
   "execution_count": 17,
   "id": "f860a60d",
   "metadata": {},
   "outputs": [],
   "source": [
    "# Split X and Y\n",
    "X_train, X_test, y_train, y_test = train_test_split(X, y, random_state = 42)"
   ]
  },
  {
   "cell_type": "code",
   "execution_count": 18,
   "id": "bbda0468",
   "metadata": {},
   "outputs": [
    {
     "data": {
      "text/plain": [
       "((1518, 121), (1518,))"
      ]
     },
     "execution_count": 18,
     "metadata": {},
     "output_type": "execute_result"
    }
   ],
   "source": [
    "X_train.shape, y_train.shape"
   ]
  },
  {
   "cell_type": "code",
   "execution_count": 19,
   "id": "14a411ba",
   "metadata": {},
   "outputs": [
    {
     "data": {
      "text/plain": [
       "((506, 121), (506,))"
      ]
     },
     "execution_count": 19,
     "metadata": {},
     "output_type": "execute_result"
    }
   ],
   "source": [
    "X_test.shape, y_test.shape"
   ]
  },
  {
   "cell_type": "markdown",
   "id": "0e96ff7c",
   "metadata": {},
   "source": [
    "Standardising the features by removing the mean and scaling."
   ]
  },
  {
   "cell_type": "code",
   "execution_count": 20,
   "id": "798e9b9b",
   "metadata": {},
   "outputs": [],
   "source": [
    "ss = StandardScaler()\n",
    "Z_train = ss.fit(X_train) # .fit should be apply to the train data only\n",
    "Z_train = ss.transform(X_train) # .transform. can be apply to both train and test data\n",
    "Z_test = ss.transform(X_test)"
   ]
  },
  {
   "cell_type": "markdown",
   "id": "15447798",
   "metadata": {},
   "source": [
    "# Null Model"
   ]
  },
  {
   "cell_type": "code",
   "execution_count": null,
   "id": "600af1ea",
   "metadata": {},
   "outputs": [],
   "source": []
  },
  {
   "cell_type": "markdown",
   "id": "51672a78",
   "metadata": {},
   "source": [
    "# Linear Regression Model\n"
   ]
  },
  {
   "cell_type": "code",
   "execution_count": 21,
   "id": "7e9bd73e",
   "metadata": {},
   "outputs": [],
   "source": [
    "# Instantiate model\n",
    "lr = LinearRegression()"
   ]
  },
  {
   "cell_type": "markdown",
   "id": "e1fc1ecd",
   "metadata": {},
   "source": [
    "# Linear Regression on Train set"
   ]
  },
  {
   "cell_type": "code",
   "execution_count": 22,
   "id": "7c6b9cd6",
   "metadata": {},
   "outputs": [
    {
     "data": {
      "text/plain": [
       "LinearRegression()"
      ]
     },
     "execution_count": 22,
     "metadata": {},
     "output_type": "execute_result"
    }
   ],
   "source": [
    "# Fit the model (Only for test)\n",
    "lr.fit(X_train,y_train)"
   ]
  },
  {
   "cell_type": "code",
   "execution_count": 23,
   "id": "55d50276",
   "metadata": {},
   "outputs": [
    {
     "data": {
      "text/plain": [
       "{('1st_flr_sf', 23.182761855448458),\n",
       " ('2nd_flr_sf', 13.733522604387076),\n",
       " ('age', -349.65168971478056),\n",
       " ('alley_None', 135.12617068111427),\n",
       " ('alley_Pave', -11406.15401305581),\n",
       " ('bsmt', 1.2268942635406574),\n",
       " ('bsmt_cond_Fa', -15378.520030832984),\n",
       " ('bsmt_cond_Gd', -15028.344491889615),\n",
       " ('bsmt_cond_None', -17249.825437673127),\n",
       " ('bsmt_cond_Po', -5592.445426198893),\n",
       " ('bsmt_cond_TA', -14821.684996317157),\n",
       " ('bsmt_full_bath', 11328.123331882662),\n",
       " ('bsmt_half_bath', 2708.572670396874),\n",
       " ('exter_qual_cond', 1105.1545719372893),\n",
       " ('exterior_1st_AsphShn', -1.000444171950221e-10),\n",
       " ('exterior_1st_BrkComm', -13515.579338762036),\n",
       " ('exterior_1st_BrkFace', 16712.619150968778),\n",
       " ('exterior_1st_CBlock', -18267.741288369005),\n",
       " ('exterior_1st_CemntBd', -10901.106253305552),\n",
       " ('exterior_1st_HdBoard', -4805.55404914054),\n",
       " ('exterior_1st_ImStucc', 6208.65546806637),\n",
       " ('exterior_1st_MetalSd', -12736.550924624345),\n",
       " ('exterior_1st_Plywood', -1794.0431404902158),\n",
       " ('exterior_1st_Stone', -34377.80325667993),\n",
       " ('exterior_1st_Stucco', -5199.75331683328),\n",
       " ('exterior_1st_VinylSd', -8762.09400668808),\n",
       " ('exterior_1st_Wd Sdng', -8269.64223589872),\n",
       " ('exterior_1st_WdShing', -5832.188267157579),\n",
       " ('exterior_2nd_AsphShn', 12215.947261367337),\n",
       " ('exterior_2nd_Brk Cmn', -2333.9779762304406),\n",
       " ('exterior_2nd_BrkFace', -2076.0859118368767),\n",
       " ('exterior_2nd_CBlock', 5126.772720592925),\n",
       " ('exterior_2nd_CmentBd', 17700.843227195608),\n",
       " ('exterior_2nd_HdBoard', -3277.704805156587),\n",
       " ('exterior_2nd_ImStucc', -6870.762082174764),\n",
       " ('exterior_2nd_MetalSd', 9717.453944745746),\n",
       " ('exterior_2nd_Plywood', -9686.95187173649),\n",
       " ('exterior_2nd_Stone', -2888.7692601427593),\n",
       " ('exterior_2nd_Stucco', 3134.139466354314),\n",
       " ('exterior_2nd_VinylSd', 2353.5774370258046),\n",
       " ('exterior_2nd_Wd Sdng', 1914.5484022181379),\n",
       " ('exterior_2nd_Wd Shng', -4132.646672072099),\n",
       " ('fireplaces_and_qual', 1673.1998768153219),\n",
       " ('foundation_CBlock', -1522.9079607840672),\n",
       " ('foundation_PConc', 3291.028160853863),\n",
       " ('foundation_Slab', -1541.2407971294383),\n",
       " ('foundation_Stone', 12055.572495024366),\n",
       " ('foundation_Wood', 12288.42170849902),\n",
       " ('full_bath', -1934.028475370649),\n",
       " ('functional', 4882.983141866017),\n",
       " ('garage', 1.5687557715620954),\n",
       " ('garage_cond_Fa', -12025.275294649713),\n",
       " ('garage_cond_Gd', -11577.176213996918),\n",
       " ('garage_cond_None', 5243.39058837758),\n",
       " ('garage_cond_Po', -24607.07604567243),\n",
       " ('garage_cond_TA', -10319.999077109274),\n",
       " ('garage_type_Attchd', 18645.736517416884),\n",
       " ('garage_type_Basment', 15871.82746736128),\n",
       " ('garage_type_BuiltIn', 21478.658131583536),\n",
       " ('garage_type_CarPort', 10127.92720012541),\n",
       " ('garage_type_Detchd', 21331.65800898312),\n",
       " ('garage_type_None', 5243.390588377609),\n",
       " ('gr_liv_area', 41.151018442293264),\n",
       " ('kitchen_and_qual', 355.4018517496469),\n",
       " ('lot_area', 0.5280678751213372),\n",
       " ('lot_frontage', 28.896600214798116),\n",
       " ('low_qual_fin_sf', 4.23480827244461),\n",
       " ('mas_vnr_area', 34.12741299327851),\n",
       " ('mas_vnr_type_BrkFace', 20133.113850887483),\n",
       " ('mas_vnr_type_None', 25391.87656343585),\n",
       " ('mas_vnr_type_Stone', 29646.381707292716),\n",
       " ('ms_subclass', -146.81965140526873),\n",
       " ('ms_zoning_C (all)', -17092.539245926382),\n",
       " ('ms_zoning_FV', 20084.19547981154),\n",
       " ('ms_zoning_I (all)', 651.0413600966859),\n",
       " ('ms_zoning_RH', 8811.340917824093),\n",
       " ('ms_zoning_RL', 3328.8419364939077),\n",
       " ('ms_zoning_RM', -6845.510388520388),\n",
       " ('neighborhood_Blueste', 11014.927891595831),\n",
       " ('neighborhood_BrDale', 17281.379898081057),\n",
       " ('neighborhood_BrkSide', 14609.71278627236),\n",
       " ('neighborhood_ClearCr', 5419.0410795242315),\n",
       " ('neighborhood_CollgCr', 1176.5710557520583),\n",
       " ('neighborhood_Crawfor', 21139.791111522158),\n",
       " ('neighborhood_Edwards', 264.76046046486994),\n",
       " ('neighborhood_Gilbert', 3313.7988744496224),\n",
       " ('neighborhood_Greens', 7521.889216691447),\n",
       " ('neighborhood_GrnHill', 153825.0636087678),\n",
       " ('neighborhood_IDOTRR', 15081.474253495042),\n",
       " ('neighborhood_Landmrk', 1.8917489796876907e-10),\n",
       " ('neighborhood_MeadowV', -3362.1947217875127),\n",
       " ('neighborhood_Mitchel', 3385.6304842614127),\n",
       " ('neighborhood_NAmes', 683.6203787273552),\n",
       " ('neighborhood_NPkVill', 17241.888194714917),\n",
       " ('neighborhood_NWAmes', -1742.617301442225),\n",
       " ('neighborhood_NoRidge', 20901.309564578576),\n",
       " ('neighborhood_NridgHt', 30519.62506886608),\n",
       " ('neighborhood_OldTown', 7278.019449570753),\n",
       " ('neighborhood_SWISU', 1916.3074415201536),\n",
       " ('neighborhood_Sawyer', 4855.847603963537),\n",
       " ('neighborhood_SawyerW', 1528.6753115433091),\n",
       " ('neighborhood_Somerst', 3835.8635228388534),\n",
       " ('neighborhood_StoneBr', 39408.531457444646),\n",
       " ('neighborhood_Timber', 3077.838605590427),\n",
       " ('neighborhood_Veenker', -8143.1725153713915),\n",
       " ('overall_qual_cond', 1230.6361591314137),\n",
       " ('paved_drive_P', -5937.975795483936),\n",
       " ('paved_drive_Y', 2813.9062938742522),\n",
       " ('porch_total', 42.32185091913013),\n",
       " ('sale_type_CWD', 3130.690724366752),\n",
       " ('sale_type_Con', 46441.06633105566),\n",
       " ('sale_type_ConLD', 16280.1038980697),\n",
       " ('sale_type_ConLI', 11977.468073592572),\n",
       " ('sale_type_ConLw', 12631.6117844703),\n",
       " ('sale_type_New', 19180.13264086913),\n",
       " ('sale_type_Oth', 17365.407277122627),\n",
       " ('sale_type_WD ', 4165.106932936771),\n",
       " ('street_Pave', 5274.861532143862),\n",
       " ('totrms_abvgrd', -868.85819860083),\n",
       " ('wood_deck_sf', 8.15070719643767),\n",
       " ('year_remod/add', 70.1460366632129)}"
      ]
     },
     "execution_count": 23,
     "metadata": {},
     "output_type": "execute_result"
    }
   ],
   "source": [
    "# Feature: Coefficients\n",
    "set(zip(X_train.columns, lr.coef_))"
   ]
  },
  {
   "cell_type": "code",
   "execution_count": 24,
   "id": "d550be94",
   "metadata": {},
   "outputs": [
    {
     "name": "stdout",
     "output_type": "stream",
     "text": [
      "The R2 score using linear regression on train set is 0.924\n"
     ]
    }
   ],
   "source": [
    "# Coefficient of Determination, R2 for train\n",
    "r2_lr_train=lr.score(X_train, y_train)\n",
    "print('The R2 score using linear regression on train set is {:.3f}'.format(r2_lr_train))"
   ]
  },
  {
   "cell_type": "code",
   "execution_count": 69,
   "id": "de958836",
   "metadata": {},
   "outputs": [
    {
     "name": "stdout",
     "output_type": "stream",
     "text": [
      "The root mean square error using linear regression on train set is 21718.\n"
     ]
    }
   ],
   "source": [
    "# RMSE for train\n",
    "y_pred = lr.predict(X_train)\n",
    "rmse_lr_train = np.sqrt(mean_squared_error(y_train, y_pred))\n",
    "print('The root mean square error using linear regression on train set is {:.0f}.'.format(rmse_lr_train))"
   ]
  },
  {
   "cell_type": "code",
   "execution_count": 42,
   "id": "753b7286",
   "metadata": {},
   "outputs": [
    {
     "name": "stdout",
     "output_type": "stream",
     "text": [
      "The cross val score using linear regression on train set is 0.906\n"
     ]
    }
   ],
   "source": [
    "# Cross Val for train\n",
    "cv_lr_train = cross_val_score(lr, X_train, y_train).mean()\n",
    "print('The cross val score using linear regression on train set is {:.3f}'.format(cv_lr_train))"
   ]
  },
  {
   "cell_type": "markdown",
   "id": "027d55ff",
   "metadata": {},
   "source": [
    "# Linear Regression on Test set"
   ]
  },
  {
   "cell_type": "code",
   "execution_count": 27,
   "id": "3d28bc53",
   "metadata": {},
   "outputs": [
    {
     "name": "stdout",
     "output_type": "stream",
     "text": [
      "The R2 score using linear regression on test set is 0.900\n"
     ]
    }
   ],
   "source": [
    "# Coefficient of Determination, R2 for test \n",
    "r2_lr_test=lr.score(X_test, y_test)\n",
    "print('The R2 score using linear regression on test set is {:.3f}'.format(r2_lr_test))"
   ]
  },
  {
   "cell_type": "code",
   "execution_count": 67,
   "id": "a6b974a4",
   "metadata": {},
   "outputs": [
    {
     "name": "stdout",
     "output_type": "stream",
     "text": [
      "The root mean square error using linear regression on test set is 25475.\n"
     ]
    }
   ],
   "source": [
    "# RMSE for test\n",
    "y_pred = lr.predict(X_test)\n",
    "rmse_lr_test = np.sqrt(mean_squared_error(y_test, y_pred))\n",
    "print('The root mean square error using linear regression on test set is {:.0f}.'.format(rmse_lr_test))"
   ]
  },
  {
   "cell_type": "code",
   "execution_count": 43,
   "id": "212b5c3d",
   "metadata": {},
   "outputs": [
    {
     "name": "stdout",
     "output_type": "stream",
     "text": [
      "The cross val score using linear regression on test set is 0.874\n"
     ]
    }
   ],
   "source": [
    "# Cross Val for test\n",
    "cv_lr_test = cross_val_score(lr, X_test, y_test).mean()\n",
    "print('The cross val score using linear regression on test set is {:.3f}'.format(cv_lr_test))"
   ]
  },
  {
   "cell_type": "markdown",
   "id": "77d97732",
   "metadata": {},
   "source": [
    "# Ridge Regression"
   ]
  },
  {
   "cell_type": "code",
   "execution_count": 38,
   "id": "878f730a",
   "metadata": {},
   "outputs": [
    {
     "data": {
      "text/plain": [
       "Ridge(alpha=10)"
      ]
     },
     "execution_count": 38,
     "metadata": {},
     "output_type": "execute_result"
    }
   ],
   "source": [
    "rr = Ridge(alpha=10)\n",
    "rr.fit(X_train, y_train) "
   ]
  },
  {
   "cell_type": "markdown",
   "id": "067bfc59",
   "metadata": {},
   "source": [
    "# Ridge Regression on Train"
   ]
  },
  {
   "cell_type": "code",
   "execution_count": 40,
   "id": "47a26b7d",
   "metadata": {},
   "outputs": [
    {
     "name": "stdout",
     "output_type": "stream",
     "text": [
      "The R2 score using ridge regression on train set is 0.919\n"
     ]
    }
   ],
   "source": [
    "# Ridge regression on train\n",
    "pred_train_rr= rr.predict(X_train)\n",
    "r2_rr_train = r2_score(y_train, pred_train_rr)\n",
    "print('The R2 score using ridge regression on train set is {:.3f}'.format(r2_rr_train))"
   ]
  },
  {
   "cell_type": "code",
   "execution_count": 41,
   "id": "1970fb0a",
   "metadata": {},
   "outputs": [
    {
     "name": "stdout",
     "output_type": "stream",
     "text": [
      "The root mean square error using ridge regression on train set is 22336.\n"
     ]
    }
   ],
   "source": [
    "# RMSE on ridge\n",
    "rmse_rr_train = np.sqrt(mean_squared_error(y_train,pred_train_rr))\n",
    "print('The root mean square error using ridge regression on train set is {:.0f}.'.format(rmse_rr_train))"
   ]
  },
  {
   "cell_type": "code",
   "execution_count": 44,
   "id": "49658aaa",
   "metadata": {},
   "outputs": [
    {
     "name": "stdout",
     "output_type": "stream",
     "text": [
      "The cross val score using ridge regression on train set is 0.999\n"
     ]
    }
   ],
   "source": [
    "# Ridge Cross val for train\n",
    "cv_rr_train = cross_val_score(rr, X_train, pred_train_rr).mean()\n",
    "print('The cross val score using ridge regression on train set is {:.3f}'.format(cv_rr_train))"
   ]
  },
  {
   "cell_type": "markdown",
   "id": "fa83ee51",
   "metadata": {},
   "source": [
    "# Ridge Regression on Test"
   ]
  },
  {
   "cell_type": "code",
   "execution_count": 46,
   "id": "bb9b2626",
   "metadata": {},
   "outputs": [
    {
     "name": "stdout",
     "output_type": "stream",
     "text": [
      "The R2 score using ridge regression on test set is 0.899\n"
     ]
    }
   ],
   "source": [
    "# Ridge regression on test \n",
    "pred_test_rr= rr.predict(X_test)\n",
    "r2_rr_test = r2_score(y_test, pred_test_rr)\n",
    "print('The R2 score using ridge regression on test set is {:.3f}'.format(r2_rr_test))"
   ]
  },
  {
   "cell_type": "code",
   "execution_count": 47,
   "id": "94940e76",
   "metadata": {},
   "outputs": [
    {
     "name": "stdout",
     "output_type": "stream",
     "text": [
      "The root mean square error using ridge regression on test set is 25606.\n"
     ]
    }
   ],
   "source": [
    "# RMSE on ridge\n",
    "rmse_rr_test = np.sqrt(mean_squared_error(y_test,pred_test_rr))\n",
    "print('The root mean square error using ridge regression on test set is {:.0f}.'.format(rmse_rr_test))"
   ]
  },
  {
   "cell_type": "code",
   "execution_count": 48,
   "id": "64e8d309",
   "metadata": {},
   "outputs": [
    {
     "name": "stdout",
     "output_type": "stream",
     "text": [
      "The cross val score using ridge regression on train set is 0.997\n"
     ]
    }
   ],
   "source": [
    "# Ridge Cross val for train\n",
    "cv_rr_test = cross_val_score(rr, X_test, pred_test_rr).mean()\n",
    "print('The cross val score using ridge regression on train set is {:.3f}'.format(cv_rr_test))"
   ]
  },
  {
   "cell_type": "markdown",
   "id": "9fde1a69",
   "metadata": {},
   "source": [
    "# Lasso Regression"
   ]
  },
  {
   "cell_type": "code",
   "execution_count": 56,
   "id": "62e8e00b",
   "metadata": {},
   "outputs": [
    {
     "name": "stderr",
     "output_type": "stream",
     "text": [
      "/Users/khooqixiang/opt/anaconda3/lib/python3.9/site-packages/sklearn/linear_model/_coordinate_descent.py:647: ConvergenceWarning: Objective did not converge. You might want to increase the number of iterations, check the scale of the features or consider increasing regularisation. Duality gap: 3.547e+11, tolerance: 9.362e+08\n",
      "  model = cd_fast.enet_coordinate_descent(\n"
     ]
    },
    {
     "data": {
      "text/plain": [
       "Lasso(alpha=0.01)"
      ]
     },
     "execution_count": 56,
     "metadata": {},
     "output_type": "execute_result"
    }
   ],
   "source": [
    "model_lasso = Lasso(alpha=0.01)\n",
    "model_lasso.fit(X_train, y_train)"
   ]
  },
  {
   "cell_type": "markdown",
   "id": "a5e0ff76",
   "metadata": {},
   "source": [
    "# Lasso Regression on Train"
   ]
  },
  {
   "cell_type": "code",
   "execution_count": 58,
   "id": "06412c6c",
   "metadata": {},
   "outputs": [
    {
     "name": "stdout",
     "output_type": "stream",
     "text": [
      "The R2 score using lasso regression on train set is 0.924.\n"
     ]
    }
   ],
   "source": [
    "# Lasso regression on train\n",
    "pred_train_lasso = model_lasso.predict(X_train)\n",
    "r2_lasso_train = r2_score(y_train, pred_train_lasso)\n",
    "print('The R2 score using lasso regression on train set is {:.3f}.'.format(r2_lasso_train))"
   ]
  },
  {
   "cell_type": "code",
   "execution_count": 59,
   "id": "9f7d5a04",
   "metadata": {},
   "outputs": [
    {
     "name": "stdout",
     "output_type": "stream",
     "text": [
      "The root mean square error using lasso regression on train set is 21718.\n"
     ]
    }
   ],
   "source": [
    "# RSME for train\n",
    "rmse_lasso_train = np.sqrt(mean_squared_error(y_train,pred_train_lasso))\n",
    "print('The root mean square error using lasso regression on train set is {:.0f}.'.format(rmse_lasso_train))"
   ]
  },
  {
   "cell_type": "code",
   "execution_count": 61,
   "id": "7d60e268",
   "metadata": {},
   "outputs": [
    {
     "name": "stdout",
     "output_type": "stream",
     "text": [
      "The cross val score using lasso regression on train set is 0.997\n"
     ]
    }
   ],
   "source": [
    "# Lasso Cross val for train\n",
    "cv_lasso_train = cross_val_score(model_lasso, X_train, pred_train_lasso).mean()\n",
    "print('The cross val score using lasso regression on train set is {:.3f}'.format(cv_lasso_train))"
   ]
  },
  {
   "cell_type": "markdown",
   "id": "60423cfa",
   "metadata": {},
   "source": [
    "# Lasso Regression on Test"
   ]
  },
  {
   "cell_type": "code",
   "execution_count": 63,
   "id": "75c5dfca",
   "metadata": {},
   "outputs": [
    {
     "name": "stdout",
     "output_type": "stream",
     "text": [
      "The R2 score using lasso regression on test set is 0.900.\n"
     ]
    }
   ],
   "source": [
    "# Lasso regression on test\n",
    "pred_test_lasso = model_lasso.predict(X_test)\n",
    "r2_lasso_test = r2_score(y_test, pred_test_lasso)\n",
    "print('The R2 score using lasso regression on test set is {:.3f}.'.format(r2_lasso_test))"
   ]
  },
  {
   "cell_type": "code",
   "execution_count": 64,
   "id": "14472945",
   "metadata": {},
   "outputs": [
    {
     "name": "stdout",
     "output_type": "stream",
     "text": [
      "The root mean square error using lasso regression on test set is 25475.\n"
     ]
    }
   ],
   "source": [
    "# RSME for test\n",
    "rmse_lasso_test = np.sqrt(mean_squared_error(y_test,pred_test_lasso))\n",
    "print('The root mean square error using lasso regression on test set is {:.0f}.'.format(rmse_lasso_test))"
   ]
  },
  {
   "cell_type": "code",
   "execution_count": 65,
   "id": "6ac36ae8",
   "metadata": {},
   "outputs": [
    {
     "name": "stdout",
     "output_type": "stream",
     "text": [
      "The cross val score using lasso regression on test set is 0.989\n"
     ]
    }
   ],
   "source": [
    "# Lasso Cross val for test\n",
    "cv_lasso_test = cross_val_score(model_lasso, X_test, pred_test_lasso).mean()\n",
    "print('The cross val score using lasso regression on test set is {:.3f}'.format(cv_lasso_test))"
   ]
  },
  {
   "cell_type": "markdown",
   "id": "33b84a28",
   "metadata": {},
   "source": [
    "# Comparison between Linear, Ridge, Lasso Regression \n",
    "\n",
    "| Metrics || Null || Linear | Ridge | Lasso |\n",
    "| --- || --- || --- | --- | --- |\n",
    "| R2 ||  || 0.924 | 0.919 | 0.924 |\n",
    "| RSME ||  || 21718 | 22336 | 21718 |\n",
    "| CV ||  || 0.906 | 0.999 | 0.997 |"
   ]
  },
  {
   "cell_type": "code",
   "execution_count": null,
   "id": "3e282ad9",
   "metadata": {},
   "outputs": [],
   "source": []
  }
 ],
 "metadata": {
  "kernelspec": {
   "display_name": "Python 3 (ipykernel)",
   "language": "python",
   "name": "python3"
  },
  "language_info": {
   "codemirror_mode": {
    "name": "ipython",
    "version": 3
   },
   "file_extension": ".py",
   "mimetype": "text/x-python",
   "name": "python",
   "nbconvert_exporter": "python",
   "pygments_lexer": "ipython3",
   "version": "3.9.12"
  }
 },
 "nbformat": 4,
 "nbformat_minor": 5
}
